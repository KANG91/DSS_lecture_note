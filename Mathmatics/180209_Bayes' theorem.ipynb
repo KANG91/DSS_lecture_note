{
 "cells": [
  {
   "cell_type": "markdown",
   "metadata": {},
   "source": [
    "TabularCPD(variable, variable_card, value, evidence, evidence_card)  \n",
    "  - variable : 확률변수란 후보군 안에 답이 있을 경우를 만들어 내는 것.\n",
    "  답이 되거나 되지 않거나\n",
    "  - variable_card : 경우의 수\n",
    "  - value : 조건부 확률 배열"
   ]
  },
  {
   "cell_type": "code",
   "execution_count": 1,
   "metadata": {
    "collapsed": true
   },
   "outputs": [],
   "source": [
    "from pgmpy.factors.discrete import TabularCPD"
   ]
  },
  {
   "cell_type": "code",
   "execution_count": 2,
   "metadata": {},
   "outputs": [
    {
     "name": "stdout",
     "output_type": "stream",
     "text": [
      "╒═════╤═══════╕\n",
      "│ X_0 │ 0.998 │\n",
      "├─────┼───────┤\n",
      "│ X_1 │ 0.002 │\n",
      "╘═════╧═══════╛\n"
     ]
    }
   ],
   "source": [
    "cpd_X = TabularCPD('X', 2, [[1 - 0.002, 0.002]])\n",
    "print(cpd_X)"
   ]
  },
  {
   "cell_type": "code",
   "execution_count": 3,
   "metadata": {},
   "outputs": [
    {
     "name": "stdout",
     "output_type": "stream",
     "text": [
      "╒═════╤══════╤══════╕\n",
      "│ X   │ X_0  │ X_1  │\n",
      "├─────┼──────┼──────┤\n",
      "│ Y_0 │ 0.95 │ 0.01 │\n",
      "├─────┼──────┼──────┤\n",
      "│ Y_1 │ 0.05 │ 0.99 │\n",
      "╘═════╧══════╧══════╛\n"
     ]
    }
   ],
   "source": [
    "#의미상으론 column이지만, 입력시엔 row로 입력\n",
    "cpd_YX = TabularCPD('Y', 2, np.array([[0.95, 0.01], [0.05, 0.99]]), \n",
    "                   evidence = ['X'], evidence_card = [2])\n",
    "print(cpd_YX)"
   ]
  },
  {
   "cell_type": "code",
   "execution_count": 4,
   "metadata": {},
   "outputs": [
    {
     "data": {
      "text/plain": [
       "True"
      ]
     },
     "execution_count": 4,
     "metadata": {},
     "output_type": "execute_result"
    }
   ],
   "source": [
    "from pgmpy.models import BayesianModel\n",
    "model = BayesianModel([('X', 'Y')]) # X때문에 Y가 발생한다.\n",
    "model.add_cpds(cpd_X, cpd_YX)\n",
    "model.check_model()"
   ]
  },
  {
   "cell_type": "code",
   "execution_count": 5,
   "metadata": {},
   "outputs": [
    {
     "name": "stdout",
     "output_type": "stream",
     "text": [
      "╒═════╤══════════╕\n",
      "│ X   │   phi(X) │\n",
      "╞═════╪══════════╡\n",
      "│ X_0 │   0.9618 │\n",
      "├─────┼──────────┤\n",
      "│ X_1 │   0.0382 │\n",
      "╘═════╧══════════╛\n"
     ]
    }
   ],
   "source": [
    "from pgmpy.inference import VariableElimination\n",
    "\n",
    "infer = VariableElimination(model)\n",
    "posterior = infer.query(['X'], evidence = {'Y' : 1})\n",
    "print(posterior['X'])"
   ]
  },
  {
   "cell_type": "code",
   "execution_count": null,
   "metadata": {
    "collapsed": true
   },
   "outputs": [],
   "source": []
  },
  {
   "cell_type": "markdown",
   "metadata": {},
   "source": [
    "\n",
    "$$ P(A, B, C) = P( A | B, C)P(B, C) = P(A | B, C)P(C | B)P(C) $$\n",
    "\n",
    "$$ P(A, B, C) = P( B | A, C)P(A, C) = P(B | A, C)P(C | A)P(C) $$\n",
    "\n",
    "$$ P(A | B, C)P(C | B)P(C) = P(B | A, C)P(C | A)P(C) $$\n",
    "\n",
    "$$ P(A | B ,C) = \\frac{P(B | A , C)P(A | C)}{P(B|C)} $$"
   ]
  },
  {
   "cell_type": "code",
   "execution_count": null,
   "metadata": {
    "collapsed": true
   },
   "outputs": [],
   "source": []
  },
  {
   "cell_type": "code",
   "execution_count": null,
   "metadata": {
    "collapsed": true
   },
   "outputs": [],
   "source": []
  },
  {
   "cell_type": "code",
   "execution_count": null,
   "metadata": {
    "collapsed": true
   },
   "outputs": [],
   "source": []
  },
  {
   "cell_type": "code",
   "execution_count": null,
   "metadata": {
    "collapsed": true
   },
   "outputs": [],
   "source": []
  },
  {
   "cell_type": "code",
   "execution_count": null,
   "metadata": {
    "collapsed": true
   },
   "outputs": [],
   "source": []
  },
  {
   "cell_type": "code",
   "execution_count": null,
   "metadata": {
    "collapsed": true
   },
   "outputs": [],
   "source": []
  }
 ],
 "metadata": {
  "kernelspec": {
   "display_name": "Python 3",
   "language": "python",
   "name": "python3"
  },
  "language_info": {
   "codemirror_mode": {
    "name": "ipython",
    "version": 3
   },
   "file_extension": ".py",
   "mimetype": "text/x-python",
   "name": "python",
   "nbconvert_exporter": "python",
   "pygments_lexer": "ipython3",
   "version": "3.6.3"
  }
 },
 "nbformat": 4,
 "nbformat_minor": 2
}
