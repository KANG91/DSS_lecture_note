{
 "cells": [
  {
   "cell_type": "code",
   "execution_count": 1,
   "metadata": {},
   "outputs": [
    {
     "data": {
      "text/plain": [
       "{1, 2, 3}"
      ]
     },
     "execution_count": 1,
     "metadata": {},
     "output_type": "execute_result"
    }
   ],
   "source": [
    "A = set([ 1, 2, 3, 3, 2])\n",
    "A"
   ]
  },
  {
   "cell_type": "code",
   "execution_count": 2,
   "metadata": {},
   "outputs": [
    {
     "data": {
      "text/plain": [
       "frozenset({'H', 'T'})"
      ]
     },
     "execution_count": 2,
     "metadata": {},
     "output_type": "execute_result"
    }
   ],
   "source": [
    "B = frozenset(['H', 'T'])\n",
    "B"
   ]
  },
  {
   "cell_type": "code",
   "execution_count": 3,
   "metadata": {
    "collapsed": true
   },
   "outputs": [],
   "source": [
    "A1 = set([1, 2, 3, 4])\n",
    "A2 = set([2, 4, 6])\n",
    "A3 = set([1, 2, 3])\n",
    "A4 = set([2, 3, 4, 5, 6])"
   ]
  },
  {
   "cell_type": "code",
   "execution_count": 4,
   "metadata": {},
   "outputs": [
    {
     "data": {
      "text/plain": [
       "{1, 2, 3, 4, 6}"
      ]
     },
     "execution_count": 4,
     "metadata": {},
     "output_type": "execute_result"
    }
   ],
   "source": [
    "A1.union(A2)"
   ]
  },
  {
   "cell_type": "code",
   "execution_count": 5,
   "metadata": {},
   "outputs": [
    {
     "data": {
      "text/plain": [
       "{1, 2, 3, 4, 6}"
      ]
     },
     "execution_count": 5,
     "metadata": {},
     "output_type": "execute_result"
    }
   ],
   "source": [
    "A2 | A1"
   ]
  },
  {
   "cell_type": "code",
   "execution_count": 6,
   "metadata": {},
   "outputs": [
    {
     "data": {
      "text/plain": [
       "{1, 2, 3, 4, 6}"
      ]
     },
     "execution_count": 6,
     "metadata": {},
     "output_type": "execute_result"
    }
   ],
   "source": [
    "A1 | A2"
   ]
  },
  {
   "cell_type": "code",
   "execution_count": 7,
   "metadata": {},
   "outputs": [
    {
     "data": {
      "text/plain": [
       "{2, 3}"
      ]
     },
     "execution_count": 7,
     "metadata": {},
     "output_type": "execute_result"
    }
   ],
   "source": [
    "A3.intersection(A4)"
   ]
  },
  {
   "cell_type": "code",
   "execution_count": 8,
   "metadata": {},
   "outputs": [
    {
     "data": {
      "text/plain": [
       "{2, 3}"
      ]
     },
     "execution_count": 8,
     "metadata": {},
     "output_type": "execute_result"
    }
   ],
   "source": [
    "A4 & A3"
   ]
  },
  {
   "cell_type": "code",
   "execution_count": 9,
   "metadata": {},
   "outputs": [
    {
     "data": {
      "text/plain": [
       "True"
      ]
     },
     "execution_count": 9,
     "metadata": {},
     "output_type": "execute_result"
    }
   ],
   "source": [
    "A3.issubset(A1)"
   ]
  },
  {
   "cell_type": "code",
   "execution_count": 10,
   "metadata": {},
   "outputs": [
    {
     "data": {
      "text/plain": [
       "True"
      ]
     },
     "execution_count": 10,
     "metadata": {},
     "output_type": "execute_result"
    }
   ],
   "source": [
    "A3 <= A1"
   ]
  },
  {
   "cell_type": "code",
   "execution_count": 11,
   "metadata": {},
   "outputs": [
    {
     "data": {
      "text/plain": [
       "False"
      ]
     },
     "execution_count": 11,
     "metadata": {},
     "output_type": "execute_result"
    }
   ],
   "source": [
    "A3 <= A2"
   ]
  },
  {
   "cell_type": "code",
   "execution_count": 12,
   "metadata": {},
   "outputs": [
    {
     "data": {
      "text/plain": [
       "True"
      ]
     },
     "execution_count": 12,
     "metadata": {},
     "output_type": "execute_result"
    }
   ],
   "source": [
    "A3 <= A3"
   ]
  },
  {
   "cell_type": "code",
   "execution_count": 13,
   "metadata": {},
   "outputs": [
    {
     "data": {
      "text/plain": [
       "False"
      ]
     },
     "execution_count": 13,
     "metadata": {},
     "output_type": "execute_result"
    }
   ],
   "source": [
    "A3 < A3"
   ]
  },
  {
   "cell_type": "code",
   "execution_count": 14,
   "metadata": {},
   "outputs": [
    {
     "data": {
      "text/plain": [
       "{1, 3}"
      ]
     },
     "execution_count": 14,
     "metadata": {},
     "output_type": "execute_result"
    }
   ],
   "source": [
    "A1.difference(A2)"
   ]
  },
  {
   "cell_type": "code",
   "execution_count": 15,
   "metadata": {},
   "outputs": [
    {
     "data": {
      "text/plain": [
       "{1, 3}"
      ]
     },
     "execution_count": 15,
     "metadata": {},
     "output_type": "execute_result"
    }
   ],
   "source": [
    "A1 - A2"
   ]
  },
  {
   "cell_type": "code",
   "execution_count": null,
   "metadata": {
    "collapsed": true
   },
   "outputs": [],
   "source": []
  },
  {
   "cell_type": "code",
   "execution_count": 16,
   "metadata": {},
   "outputs": [
    {
     "data": {
      "text/plain": [
       "set()"
      ]
     },
     "execution_count": 16,
     "metadata": {},
     "output_type": "execute_result"
    }
   ],
   "source": [
    "nullset = set([])\n",
    "nullset"
   ]
  },
  {
   "cell_type": "code",
   "execution_count": 17,
   "metadata": {},
   "outputs": [
    {
     "data": {
      "text/plain": [
       "True"
      ]
     },
     "execution_count": 17,
     "metadata": {},
     "output_type": "execute_result"
    }
   ],
   "source": [
    "nullset < A1"
   ]
  },
  {
   "cell_type": "code",
   "execution_count": 18,
   "metadata": {},
   "outputs": [
    {
     "data": {
      "text/plain": [
       "set()"
      ]
     },
     "execution_count": 18,
     "metadata": {},
     "output_type": "execute_result"
    }
   ],
   "source": [
    "nullset.intersection(A1)"
   ]
  },
  {
   "cell_type": "code",
   "execution_count": 19,
   "metadata": {},
   "outputs": [
    {
     "data": {
      "text/plain": [
       "{1, 2, 3, 4}"
      ]
     },
     "execution_count": 19,
     "metadata": {},
     "output_type": "execute_result"
    }
   ],
   "source": [
    "nullset.union(A1)"
   ]
  },
  {
   "cell_type": "code",
   "execution_count": 24,
   "metadata": {},
   "outputs": [
    {
     "data": {
      "text/plain": [
       "{'HH', 'HT', 'TH', 'TT'}"
      ]
     },
     "execution_count": 24,
     "metadata": {},
     "output_type": "execute_result"
    }
   ],
   "source": [
    "all_set = set([\"HH\", \"HT\", \"TH\", \"TT\"])\n",
    "all"
   ]
  },
  {
   "cell_type": "code",
   "execution_count": 42,
   "metadata": {},
   "outputs": [
    {
     "data": {
      "text/plain": [
       "frozenset({'H'})"
      ]
     },
     "execution_count": 42,
     "metadata": {},
     "output_type": "execute_result"
    }
   ],
   "source": [
    "set_2 = frozenset(set('HH'))\n",
    "set_2"
   ]
  },
  {
   "cell_type": "code",
   "execution_count": 46,
   "metadata": {},
   "outputs": [
    {
     "data": {
      "text/plain": [
       "{frozenset(): 0, frozenset({'H'}): 0.25, frozenset({'H', 'T'}): 0.25}"
      ]
     },
     "execution_count": 46,
     "metadata": {},
     "output_type": "execute_result"
    }
   ],
   "source": [
    "{frozenset(set((  ))) : 0,\n",
    "frozenset(set('HH')) : 0.25,\n",
    "frozenset(set('HT')) : 0.25, }"
   ]
  },
  {
   "cell_type": "code",
   "execution_count": 47,
   "metadata": {},
   "outputs": [
    {
     "name": "stdout",
     "output_type": "stream",
     "text": [
      "frozenset() \n",
      " frozenset({'H'}) \n",
      " frozenset({'H', 'T'}) \n",
      " frozenset({'T'}) \n",
      " frozenset({'H', 'T'}) \n",
      " frozenset({'HH', 'HT'}) \n",
      " frozenset({'HH', 'TT'}) \n",
      " frozenset({'HH', 'TH'}) \n",
      " frozenset({'HT', 'TT'}) \n",
      " frozenset({'HT', 'TH'}) \n",
      " frozenset({'TT', 'TH'}) \n",
      " frozenset({'HH', 'HT', 'TT'}) \n",
      " frozenset({'HH', 'HT', 'TH'}) \n",
      " frozenset({'HH', 'TT', 'TH'}) \n",
      " frozenset({'HT', 'TT', 'TH'}) \n",
      " frozenset({'HH', 'HT', 'TT', 'TH'})\n"
     ]
    }
   ],
   "source": [
    "{frozenset(set((  ))) : 0,\n",
    "frozenset(set('HH')) : 0.3,\n",
    "frozenset(set('HT')) : 0.2,\n",
    "frozenset(set('TT')) : 0.3,\n",
    "frozenset(set('TH')) : 0.2,\n",
    "frozenset(set(['HH', 'HT'])) : 0.5,\n",
    "frozenset(set(['HH', 'TT'])) : 0.5, \n",
    "frozenset(set(['HH', 'TH'])) : 0.5,\n",
    "frozenset(set(['HT', 'TT'])) : 0.5,\n",
    "frozenset(set(['HT', 'TH'])) : 0.5,\n",
    "frozenset(set(['TT', 'TH'])) : 0.5,\n",
    "frozenset(set(['HH', 'HT', 'TT'])) : 0.75,\n",
    "frozenset(set(['HH', 'HT', 'TH'])) : 0.75,\n",
    "frozenset(set(['HH', 'TT', 'TH'])) : 0.75,\n",
    "frozenset(set(['HT', 'TT', 'TH'])) : 0.75,\n",
    "frozenset(set(['HH', 'HT', 'TT', 'TH'])) : 1.0\n",
    "}\n",
    "\n",
    "print(set_1, '\\n', set_2, '\\n', set_3, '\\n',set_4, '\\n',set_5, '\\n',set_6, '\\n',set_7, '\\n',set_8, '\\n',set_9, '\\n',set_10,'\\n', set_11, '\\n',set_12, '\\n',set_13, '\\n', set_14, '\\n',set_15, '\\n',set_16)"
   ]
  },
  {
   "cell_type": "markdown",
   "metadata": {
    "collapsed": true
   },
   "source": [
    "연습 문제 3\n",
    "\n",
    "\n",
    "\n",
    "1. 다음 주 친구와의 약속에서 친구가 늦을 확률\n",
    "표본 공간 : {Y, N} \n",
    "\n",
    "2. 내일 아침 반찬으로 김치찌개가 나올 확률\n",
    "표본 공간 : {\"김치찌개\", \"부대찌개\", \"된장찌개\"} \n",
    "\n",
    "\n",
    "표본의 공간 크기가 무한대인 경우\n",
    "\n",
    "3. 다음 주 월요일 오후 1시부터 오후 2시사이에 식사를 할 확률   \n",
    "표본 공간 :  { 1 <= x <= 2 } 사이의 실수\n",
    "\n",
    "4. 오늘 저녁 집에 들어갔을 때, 내방 온도가 20도인 경우 \n",
    "표본 공간 : { 5<= x <= 25 } 사이의 실수\n"
   ]
  },
  {
   "cell_type": "code",
   "execution_count": 13,
   "metadata": {},
   "outputs": [
    {
     "data": {
      "text/plain": [
       "{frozenset(): 0,\n",
       " frozenset({2}): 0.2,\n",
       " frozenset({2, 4}): 0.2,\n",
       " frozenset({3}): 0.3,\n",
       " frozenset({1, 2}): 0.7,\n",
       " frozenset({4}): 0,\n",
       " frozenset({1, 4}): 0.5,\n",
       " frozenset({2, 3, 4}): 0.5,\n",
       " frozenset({1, 2, 4}): 0.7,\n",
       " frozenset({3, 4}): 0.3,\n",
       " frozenset({2, 3}): 0.5,\n",
       " frozenset({1}): 0.5,\n",
       " frozenset({1, 3}): 0.8,\n",
       " frozenset({1, 3, 4}): 0.8,\n",
       " frozenset({1, 2, 3}): 1.0,\n",
       " frozenset({1, 2, 3, 4}): 1.0}"
      ]
     },
     "execution_count": 13,
     "metadata": {},
     "output_type": "execute_result"
    }
   ],
   "source": [
    "{frozenset(): 0,\n",
    "frozenset({2}): 0.2,\n",
    "frozenset({2, 4}): 0.2,\n",
    "frozenset({3}): 0.3,\n",
    "frozenset({1, 2}): 0.7,\n",
    "frozenset({4}): 0,\n",
    "frozenset({1, 4}): 0.5,\n",
    "frozenset({2, 3, 4}): 0.5,\n",
    "frozenset({1, 2, 4}): 0.7,\n",
    "frozenset({3, 4}): 0.3,\n",
    "frozenset({2, 3}): 0.5,\n",
    "frozenset({1}): 0.5,\n",
    "frozenset({1, 3}): 0.8,\n",
    "frozenset({1, 3, 4}): 0.8,\n",
    "frozenset({1, 2, 3}): 1.0,\n",
    "frozenset({1, 2, 3, 4}): 1.0}"
   ]
  },
  {
   "cell_type": "markdown",
   "metadata": {
    "collapsed": true
   },
   "source": [
    "시나리오 작성( = 리얼 월드를 만들어내고 있는 것.)\n",
    "전체 12명\n",
    "1. 남자, 23살, 긴 머리 \n",
    "2. 여자, 15살, 짧은 머리 \n",
    "3. 남자, 17살, 짧은 머리 \n",
    "4. 여자, 32살, 긴 머리 \n",
    "5. 여자, 40살, 짧은 머리\n",
    "6. 남자, 28살, 짧은 머리\n",
    "7. 남자, 58살, 짧은 머리\n",
    "8. 여자, 7살, 긴 머리\n",
    "9. 여자, 20살, 긴 머리\n",
    "10. 남자, 11살, 짧은 머리\n",
    "11. 남자, 21살, 긴 머리\n",
    "12. 여자, 98살, 짧은 머리 "
   ]
  },
  {
   "cell_type": "markdown",
   "metadata": {
    "collapsed": true
   },
   "source": [
    "$$ P(A) = \\frac{6}{12} = 0.5 $$\n",
    "$$ P(B) = \\frac{5}{12}$$"
   ]
  },
  {
   "cell_type": "markdown",
   "metadata": {
    "collapsed": true
   },
   "source": [
    "#### 2. 여집합의 확률\n",
    "$$ P\\{A^C\\} = 1 - P\\{A\\} = 1 - 0.5 = 0.5,   P\\{A^C\\} = 0.5 $$ \n",
    "$$ P\\{B^C\\} = 1 - P\\{B\\} = 1 - \\frac{5}{12} = \\frac{7}{12}, P\\{B^C\\} = \\frac{7]{12} $$"
   ]
  },
  {
   "cell_type": "markdown",
   "metadata": {},
   "source": [
    "|  | 범인이 머리가 길다 : $P(B) = 0.5 $ | 범인이 머리가 길지 않다         |\n",
    "| :------------ | :-----------: | -------------------: |\n",
    "| 범인이 남자다 : $ P(A) = 0.6     | 2명          | 4명 |      6명 |\n",
    "| 범인이 여자다    | 3명      | 3명          | 6명\n",
    "| 계     | 5명  |   7명     | 12명    |"
   ]
  },
  {
   "cell_type": "code",
   "execution_count": 16,
   "metadata": {
    "collapsed": true
   },
   "outputs": [],
   "source": [
    "from pgmpy.factors.discrete import JointProbabilityDistribution as JPD"
   ]
  },
  {
   "cell_type": "markdown",
   "metadata": {},
   "source": [
    "1. 주변확률 \n",
    "    - $ P(A) = 0.5 $\n",
    "    - $ P(B) = \\frac{5}{12} $\n",
    "2. 결합확률\n",
    "    - $ P(A, B) = \\frac{2}{12} $\n",
    "3. 조건부 확률\n",
    "    - $ P(A | B) = \\frac{P(A | B)}{P(B)} = \\frac{2}{5}$\n",
    "4. 독립인가?\n",
    "    - $ P(A, B) = \\frac{1}{12}, P(A)P(B) = \\frac{1}{12}  $\n",
    "\n",
    "$ \\therefore P(A, B)와 P(A)P(B)가 같으므로 독립이다. $"
   ]
  },
  {
   "cell_type": "code",
   "execution_count": 24,
   "metadata": {},
   "outputs": [
    {
     "name": "stdout",
     "output_type": "stream",
     "text": [
      "╒═════╤═════╤══════════╕\n",
      "│ A   │ B   │   P(A,B) │\n",
      "╞═════╪═════╪══════════╡\n",
      "│ A_0 │ B_0 │   0.1667 │\n",
      "├─────┼─────┼──────────┤\n",
      "│ A_0 │ B_1 │   0.3333 │\n",
      "├─────┼─────┼──────────┤\n",
      "│ A_1 │ B_0 │   0.2500 │\n",
      "├─────┼─────┼──────────┤\n",
      "│ A_1 │ B_1 │   0.2500 │\n",
      "╘═════╧═════╧══════════╛\n"
     ]
    }
   ],
   "source": [
    "j1 = JPD(['A', 'B'], [2, 2], np.array([2, 4, 3, 3]) / 12 )\n",
    "print(j1)"
   ]
  },
  {
   "cell_type": "code",
   "execution_count": 34,
   "metadata": {},
   "outputs": [
    {
     "name": "stdout",
     "output_type": "stream",
     "text": [
      "None\n"
     ]
    }
   ],
   "source": [
    "m1a = j1.marginal_distribution(['A'] , inplace = True)\n",
    "print(m1a)"
   ]
  },
  {
   "cell_type": "code",
   "execution_count": 22,
   "metadata": {},
   "outputs": [
    {
     "name": "stdout",
     "output_type": "stream",
     "text": [
      "╒═════╤═════╤══════════╕\n",
      "│ A   │ B   │   P(A,B) │\n",
      "╞═════╪═════╪══════════╡\n",
      "│ A_0 │ B_0 │   0.1500 │\n",
      "├─────┼─────┼──────────┤\n",
      "│ A_0 │ B_1 │   0.4500 │\n",
      "├─────┼─────┼──────────┤\n",
      "│ A_1 │ B_0 │   0.3500 │\n",
      "├─────┼─────┼──────────┤\n",
      "│ A_1 │ B_1 │   0.0500 │\n",
      "╘═════╧═════╧══════════╛\n"
     ]
    }
   ],
   "source": [
    "j1 = JPD(['A', 'B'], [2, 2], np.array([3, 9, 7, 1]) / 20)\n",
    "print(j1)"
   ]
  }
 ],
 "metadata": {
  "kernelspec": {
   "display_name": "Python 3",
   "language": "python",
   "name": "python3"
  },
  "language_info": {
   "codemirror_mode": {
    "name": "ipython",
    "version": 3
   },
   "file_extension": ".py",
   "mimetype": "text/x-python",
   "name": "python",
   "nbconvert_exporter": "python",
   "pygments_lexer": "ipython3",
   "version": "3.6.3"
  }
 },
 "nbformat": 4,
 "nbformat_minor": 2
}
