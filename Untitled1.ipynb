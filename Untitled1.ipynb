{
 "cells": [
  {
   "cell_type": "code",
   "execution_count": 1,
   "metadata": {
    "collapsed": true
   },
   "outputs": [],
   "source": [
    "def findSmallest(arr) :\n",
    "    smallest = arr[0]\n",
    "    smallest_index = 0\n",
    "    for i in range(1, len(arr)) :\n",
    "        if arr[i] < smallest :\n",
    "            smallest = arr[i]\n",
    "            smallest_index = i\n",
    "    return smallest_index"
   ]
  },
  {
   "cell_type": "code",
   "execution_count": 4,
   "metadata": {
    "collapsed": true
   },
   "outputs": [],
   "source": [
    "def selectionSort(arr) :\n",
    "    newArr = []\n",
    "    for i in range(len(arr)) :\n",
    "        smallest = findSmallest(arr)\n",
    "        newArr.append(arr.pop(smallest))\n",
    "    return newArr"
   ]
  },
  {
   "cell_type": "code",
   "execution_count": 5,
   "metadata": {},
   "outputs": [
    {
     "data": {
      "text/plain": [
       "[2, 3, 5, 6, 10]"
      ]
     },
     "execution_count": 5,
     "metadata": {},
     "output_type": "execute_result"
    }
   ],
   "source": [
    "selectionSort([5, 3, 6, 2, 10])"
   ]
  },
  {
   "cell_type": "code",
   "execution_count": null,
   "metadata": {
    "collapsed": true
   },
   "outputs": [],
   "source": []
  },
  {
   "cell_type": "code",
   "execution_count": 1,
   "metadata": {
    "collapsed": true
   },
   "outputs": [],
   "source": [
    "import sympy\n",
    "\n",
    "sympy.init_printing(use_latex = 'mathjax')"
   ]
  },
  {
   "cell_type": "code",
   "execution_count": 2,
   "metadata": {},
   "outputs": [
    {
     "data": {
      "text/latex": [
       "$$x$$"
      ],
      "text/plain": [
       "x"
      ]
     },
     "execution_count": 2,
     "metadata": {},
     "output_type": "execute_result"
    }
   ],
   "source": [
    "x = sympy.symbols('x')\n",
    "x"
   ]
  },
  {
   "cell_type": "code",
   "execution_count": 3,
   "metadata": {},
   "outputs": [
    {
     "data": {
      "text/latex": [
       "$$x e^{x}$$"
      ],
      "text/plain": [
       "   x\n",
       "x⋅ℯ "
      ]
     },
     "execution_count": 3,
     "metadata": {},
     "output_type": "execute_result"
    }
   ],
   "source": [
    "f = x * sympy.exp(x)\n",
    "f"
   ]
  },
  {
   "cell_type": "code",
   "execution_count": 4,
   "metadata": {},
   "outputs": [
    {
     "data": {
      "text/latex": [
       "$$x e^{x} + e^{x}$$"
      ],
      "text/plain": [
       "   x    x\n",
       "x⋅ℯ  + ℯ "
      ]
     },
     "execution_count": 4,
     "metadata": {},
     "output_type": "execute_result"
    }
   ],
   "source": [
    "sympy.diff(f)"
   ]
  },
  {
   "cell_type": "code",
   "execution_count": 5,
   "metadata": {},
   "outputs": [
    {
     "data": {
      "text/latex": [
       "$$\\left(x + 1\\right) e^{x}$$"
      ],
      "text/plain": [
       "         x\n",
       "(x + 1)⋅ℯ "
      ]
     },
     "execution_count": 5,
     "metadata": {},
     "output_type": "execute_result"
    }
   ],
   "source": [
    "sympy.simplify(sympy.diff(f))"
   ]
  },
  {
   "cell_type": "code",
   "execution_count": 8,
   "metadata": {},
   "outputs": [
    {
     "data": {
      "text/latex": [
       "$$e^{x^{2} + 2 y^{2}}$$"
      ],
      "text/plain": [
       "  2      2\n",
       " x  + 2⋅y \n",
       "ℯ         "
      ]
     },
     "execution_count": 8,
     "metadata": {},
     "output_type": "execute_result"
    }
   ],
   "source": [
    "x , y = sympy.symbols('x y')\n",
    "f = sympy.exp(x ** 2 + 2 * y ** 2)\n",
    "f"
   ]
  },
  {
   "cell_type": "code",
   "execution_count": 9,
   "metadata": {},
   "outputs": [
    {
     "data": {
      "text/latex": [
       "$$2 x e^{x^{2} + 2 y^{2}}$$"
      ],
      "text/plain": [
       "      2      2\n",
       "     x  + 2⋅y \n",
       "2⋅x⋅ℯ         "
      ]
     },
     "execution_count": 9,
     "metadata": {},
     "output_type": "execute_result"
    }
   ],
   "source": [
    "sympy.diff(f, x)"
   ]
  },
  {
   "cell_type": "code",
   "execution_count": 10,
   "metadata": {},
   "outputs": [
    {
     "data": {
      "text/latex": [
       "$$4 y e^{x^{2} + 2 y^{2}}$$"
      ],
      "text/plain": [
       "      2      2\n",
       "     x  + 2⋅y \n",
       "4⋅y⋅ℯ         "
      ]
     },
     "execution_count": 10,
     "metadata": {},
     "output_type": "execute_result"
    }
   ],
   "source": [
    "sympy.diff(f, y)"
   ]
  },
  {
   "cell_type": "code",
   "execution_count": 14,
   "metadata": {},
   "outputs": [
    {
     "data": {
      "text/latex": [
       "$$\\left(4 x^{2} + 2\\right) e^{x^{2} + 2 y^{2}}$$"
      ],
      "text/plain": [
       "             2      2\n",
       "⎛   2    ⎞  x  + 2⋅y \n",
       "⎝4⋅x  + 2⎠⋅ℯ         "
      ]
     },
     "execution_count": 14,
     "metadata": {},
     "output_type": "execute_result"
    }
   ],
   "source": [
    "sympy.simplify(sympy.diff(f, x, x))"
   ]
  },
  {
   "cell_type": "code",
   "execution_count": 15,
   "metadata": {},
   "outputs": [
    {
     "data": {
      "text/latex": [
       "$$8 x y e^{x^{2} + 2 y^{2}}$$"
      ],
      "text/plain": [
       "        2      2\n",
       "       x  + 2⋅y \n",
       "8⋅x⋅y⋅ℯ         "
      ]
     },
     "execution_count": 15,
     "metadata": {},
     "output_type": "execute_result"
    }
   ],
   "source": [
    "sympy.diff(f, x, y)"
   ]
  },
  {
   "cell_type": "code",
   "execution_count": 16,
   "metadata": {},
   "outputs": [
    {
     "data": {
      "text/latex": [
       "$$8 x y e^{x^{2} + 2 y^{2}}$$"
      ],
      "text/plain": [
       "        2      2\n",
       "       x  + 2⋅y \n",
       "8⋅x⋅y⋅ℯ         "
      ]
     },
     "execution_count": 16,
     "metadata": {},
     "output_type": "execute_result"
    }
   ],
   "source": [
    "sympy.diff(f, y, x)"
   ]
  },
  {
   "cell_type": "code",
   "execution_count": 18,
   "metadata": {},
   "outputs": [
    {
     "data": {
      "text/latex": [
       "$$\\left(16 y^{2} + 4\\right) e^{x^{2} + 2 y^{2}}$$"
      ],
      "text/plain": [
       "              2      2\n",
       "⎛    2    ⎞  x  + 2⋅y \n",
       "⎝16⋅y  + 4⎠⋅ℯ         "
      ]
     },
     "execution_count": 18,
     "metadata": {},
     "output_type": "execute_result"
    }
   ],
   "source": [
    "sympy.simplify(sympy.diff(f, y, y))"
   ]
  },
  {
   "cell_type": "code",
   "execution_count": 11,
   "metadata": {},
   "outputs": [],
   "source": [
    "#연습문제 4\n",
    "import sympy\n",
    "sympy.init_printing(use_latex = 'mathjax')\n",
    "x,  y, k, a, b = sympy.symbols('x  y k a b')\n",
    "f1 = x ** 3 - 1\n",
    "f2  = sympy.log( x ** 2 - 3*k)\n",
    "f3 = sympy.exp(a * x ** b)"
   ]
  },
  {
   "cell_type": "code",
   "execution_count": 12,
   "metadata": {},
   "outputs": [
    {
     "data": {
      "text/latex": [
       "$$x^{3} - 1$$"
      ],
      "text/plain": [
       " 3    \n",
       "x  - 1"
      ]
     },
     "execution_count": 12,
     "metadata": {},
     "output_type": "execute_result"
    }
   ],
   "source": [
    "sympy.diff(f1, x)"
   ]
  },
  {
   "cell_type": "code",
   "execution_count": 16,
   "metadata": {},
   "outputs": [
    {
     "data": {
      "text/latex": [
       "$$\\frac{2 x}{- 3 k + x^{2}}$$"
      ],
      "text/plain": [
       "   2⋅x   \n",
       "─────────\n",
       "        2\n",
       "-3⋅k + x "
      ]
     },
     "execution_count": 16,
     "metadata": {},
     "output_type": "execute_result"
    }
   ],
   "source": [
    "sympy.diff(f2 , x)"
   ]
  },
  {
   "cell_type": "code",
   "execution_count": 17,
   "metadata": {},
   "outputs": [
    {
     "data": {
      "text/latex": [
       "$$\\frac{a b}{x} x^{b} e^{a x^{b}}$$"
      ],
      "text/plain": [
       "           b\n",
       "     b  a⋅x \n",
       "a⋅b⋅x ⋅ℯ    \n",
       "────────────\n",
       "     x      "
      ]
     },
     "execution_count": 17,
     "metadata": {},
     "output_type": "execute_result"
    }
   ],
   "source": [
    "sympy.diff(f3, x)"
   ]
  },
  {
   "cell_type": "code",
   "execution_count": 18,
   "metadata": {},
   "outputs": [
    {
     "data": {
      "text/latex": [
       "$$e^{x^{2} + 2 y^{2}}$$"
      ],
      "text/plain": [
       "  2      2\n",
       " x  + 2⋅y \n",
       "ℯ         "
      ]
     },
     "execution_count": 18,
     "metadata": {},
     "output_type": "execute_result"
    }
   ],
   "source": [
    "f4 = sympy.exp(x ** 2 + 2 * y ** 2)\n",
    "f4"
   ]
  },
  {
   "cell_type": "code",
   "execution_count": 19,
   "metadata": {},
   "outputs": [
    {
     "data": {
      "text/latex": [
       "$$2 x e^{x^{2} + 2 y^{2}}$$"
      ],
      "text/plain": [
       "      2      2\n",
       "     x  + 2⋅y \n",
       "2⋅x⋅ℯ         "
      ]
     },
     "execution_count": 19,
     "metadata": {},
     "output_type": "execute_result"
    }
   ],
   "source": [
    "sympy.diff(f4, x)"
   ]
  },
  {
   "cell_type": "code",
   "execution_count": 20,
   "metadata": {},
   "outputs": [
    {
     "data": {
      "text/latex": [
       "$$4 y e^{x^{2} + 2 y^{2}}$$"
      ],
      "text/plain": [
       "      2      2\n",
       "     x  + 2⋅y \n",
       "4⋅y⋅ℯ         "
      ]
     },
     "execution_count": 20,
     "metadata": {},
     "output_type": "execute_result"
    }
   ],
   "source": [
    "sympy.diff(f4, y)"
   ]
  },
  {
   "cell_type": "code",
   "execution_count": 21,
   "metadata": {},
   "outputs": [
    {
     "data": {
      "text/latex": [
       "$$8 x y e^{x^{2} + 2 y^{2}}$$"
      ],
      "text/plain": [
       "        2      2\n",
       "       x  + 2⋅y \n",
       "8⋅x⋅y⋅ℯ         "
      ]
     },
     "execution_count": 21,
     "metadata": {},
     "output_type": "execute_result"
    }
   ],
   "source": [
    "sympy.diff(f4, x, y)"
   ]
  },
  {
   "cell_type": "code",
   "execution_count": 22,
   "metadata": {},
   "outputs": [
    {
     "data": {
      "text/latex": [
       "$$2 \\left(2 x^{2} + 1\\right) e^{x^{2} + 2 y^{2}}$$"
      ],
      "text/plain": [
       "               2      2\n",
       "  ⎛   2    ⎞  x  + 2⋅y \n",
       "2⋅⎝2⋅x  + 1⎠⋅ℯ         "
      ]
     },
     "execution_count": 22,
     "metadata": {},
     "output_type": "execute_result"
    }
   ],
   "source": [
    "sympy.diff(f4, x, x)"
   ]
  },
  {
   "cell_type": "code",
   "execution_count": 23,
   "metadata": {},
   "outputs": [
    {
     "data": {
      "text/latex": [
       "$$4 \\left(4 y^{2} + 1\\right) e^{x^{2} + 2 y^{2}}$$"
      ],
      "text/plain": [
       "               2      2\n",
       "  ⎛   2    ⎞  x  + 2⋅y \n",
       "4⋅⎝4⋅y  + 1⎠⋅ℯ         "
      ]
     },
     "execution_count": 23,
     "metadata": {},
     "output_type": "execute_result"
    }
   ],
   "source": [
    "sympy.diff(f4, y, y)"
   ]
  },
  {
   "cell_type": "code",
   "execution_count": null,
   "metadata": {
    "collapsed": true
   },
   "outputs": [],
   "source": []
  },
  {
   "cell_type": "code",
   "execution_count": null,
   "metadata": {
    "collapsed": true
   },
   "outputs": [],
   "source": []
  }
 ],
 "metadata": {
  "kernelspec": {
   "display_name": "Python 3",
   "language": "python",
   "name": "python3"
  },
  "language_info": {
   "codemirror_mode": {
    "name": "ipython",
    "version": 3
   },
   "file_extension": ".py",
   "mimetype": "text/x-python",
   "name": "python",
   "nbconvert_exporter": "python",
   "pygments_lexer": "ipython3",
   "version": "3.6.3"
  }
 },
 "nbformat": 4,
 "nbformat_minor": 2
}
