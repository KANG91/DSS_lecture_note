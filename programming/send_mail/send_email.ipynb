{
 "cells": [
  {
   "cell_type": "markdown",
   "metadata": {},
   "source": [
    "### Send Email\n",
    "- https://docs.python.org/3.5/library/email-examples.html"
   ]
  },
  {
   "cell_type": "code",
   "execution_count": 2,
   "metadata": {},
   "outputs": [],
   "source": [
    "import smtplib, os, pickle\n",
    "from email import encoders\n",
    "from email.mime.text import MIMEText\n",
    "from email.mime.multipart import MIMEMultipart\n",
    "from email.mime.base import MIMEBase"
   ]
  },
  {
   "cell_type": "code",
   "execution_count": 5,
   "metadata": {},
   "outputs": [],
   "source": [
    "toAddr = [\"ledestin91@gmail.com\", \"pdj1224@daum.net\", \"radajin1224@gmail.com\"]"
   ]
  },
  {
   "cell_type": "markdown",
   "metadata": {},
   "source": [
    "##### send text"
   ]
  },
  {
   "cell_type": "code",
   "execution_count": 11,
   "metadata": {},
   "outputs": [
    {
     "ename": "SMTPAuthenticationError",
     "evalue": "(534, b'5.7.14 <https://accounts.google.com/signin/continue?sarp=1&scc=1&plt=AKgnsbvq\\n5.7.14 B0AdguIlDo_Tu6HFIx_22krnsCTPK1fwbkGwxlOwiCG5Jw2LAnod2qCP2DT7xRiai_kDr4\\n5.7.14 Af_zpQh95CKl6gCPL6bFvSE4OdbjVpUvsUF61tpsoljBoge_kqIHxClDhzsyj-2McHBc__\\n5.7.14 Z3xBS3rxiaWMP-KICY_x8mhgR-yJgnO05ftyilXICHvyTKfxiTOa3IkMP8SSngcK01MgiN\\n5.7.14 1_oNNaNswIL3C8c64wEDz4thCQai4> Please log in via your web browser and\\n5.7.14 then try again.\\n5.7.14  Learn more at\\n5.7.14  https://support.google.com/mail/answer/78754 t7sm26127592pgu.77 - gsmtp')",
     "output_type": "error",
     "traceback": [
      "\u001b[1;31m---------------------------------------------------------------------------\u001b[0m",
      "\u001b[1;31mSMTPAuthenticationError\u001b[0m                   Traceback (most recent call last)",
      "\u001b[1;32m<ipython-input-11-d671bbf77ebe>\u001b[0m in \u001b[0;36m<module>\u001b[1;34m()\u001b[0m\n\u001b[0;32m      3\u001b[0m \u001b[0msmtp\u001b[0m\u001b[1;33m.\u001b[0m\u001b[0mehlo\u001b[0m\u001b[1;33m(\u001b[0m\u001b[1;33m)\u001b[0m\u001b[1;33m\u001b[0m\u001b[0m\n\u001b[0;32m      4\u001b[0m \u001b[0msmtp\u001b[0m\u001b[1;33m.\u001b[0m\u001b[0mstarttls\u001b[0m\u001b[1;33m(\u001b[0m\u001b[1;33m)\u001b[0m\u001b[1;33m\u001b[0m\u001b[0m\n\u001b[1;32m----> 5\u001b[1;33m \u001b[0msmtp\u001b[0m\u001b[1;33m.\u001b[0m\u001b[0mlogin\u001b[0m\u001b[1;33m(\u001b[0m\u001b[1;34m'ledestin91@gmail.com'\u001b[0m\u001b[1;33m,\u001b[0m \u001b[1;34m\"7895123a\"\u001b[0m\u001b[1;33m)\u001b[0m\u001b[1;33m\u001b[0m\u001b[0m\n\u001b[0m",
      "\u001b[1;32mC:\\ProgramData\\Miniconda3\\lib\\smtplib.py\u001b[0m in \u001b[0;36mlogin\u001b[1;34m(self, user, password, initial_response_ok)\u001b[0m\n\u001b[0;32m    728\u001b[0m \u001b[1;33m\u001b[0m\u001b[0m\n\u001b[0;32m    729\u001b[0m         \u001b[1;31m# We could not login successfully.  Return result of last attempt.\u001b[0m\u001b[1;33m\u001b[0m\u001b[1;33m\u001b[0m\u001b[0m\n\u001b[1;32m--> 730\u001b[1;33m         \u001b[1;32mraise\u001b[0m \u001b[0mlast_exception\u001b[0m\u001b[1;33m\u001b[0m\u001b[0m\n\u001b[0m\u001b[0;32m    731\u001b[0m \u001b[1;33m\u001b[0m\u001b[0m\n\u001b[0;32m    732\u001b[0m     \u001b[1;32mdef\u001b[0m \u001b[0mstarttls\u001b[0m\u001b[1;33m(\u001b[0m\u001b[0mself\u001b[0m\u001b[1;33m,\u001b[0m \u001b[0mkeyfile\u001b[0m\u001b[1;33m=\u001b[0m\u001b[1;32mNone\u001b[0m\u001b[1;33m,\u001b[0m \u001b[0mcertfile\u001b[0m\u001b[1;33m=\u001b[0m\u001b[1;32mNone\u001b[0m\u001b[1;33m,\u001b[0m \u001b[0mcontext\u001b[0m\u001b[1;33m=\u001b[0m\u001b[1;32mNone\u001b[0m\u001b[1;33m)\u001b[0m\u001b[1;33m:\u001b[0m\u001b[1;33m\u001b[0m\u001b[0m\n",
      "\u001b[1;32mC:\\ProgramData\\Miniconda3\\lib\\smtplib.py\u001b[0m in \u001b[0;36mlogin\u001b[1;34m(self, user, password, initial_response_ok)\u001b[0m\n\u001b[0;32m    719\u001b[0m                 (code, resp) = self.auth(\n\u001b[0;32m    720\u001b[0m                     \u001b[0mauthmethod\u001b[0m\u001b[1;33m,\u001b[0m \u001b[0mgetattr\u001b[0m\u001b[1;33m(\u001b[0m\u001b[0mself\u001b[0m\u001b[1;33m,\u001b[0m \u001b[0mmethod_name\u001b[0m\u001b[1;33m)\u001b[0m\u001b[1;33m,\u001b[0m\u001b[1;33m\u001b[0m\u001b[0m\n\u001b[1;32m--> 721\u001b[1;33m                     initial_response_ok=initial_response_ok)\n\u001b[0m\u001b[0;32m    722\u001b[0m                 \u001b[1;31m# 235 == 'Authentication successful'\u001b[0m\u001b[1;33m\u001b[0m\u001b[1;33m\u001b[0m\u001b[0m\n\u001b[0;32m    723\u001b[0m                 \u001b[1;31m# 503 == 'Error: already authenticated'\u001b[0m\u001b[1;33m\u001b[0m\u001b[1;33m\u001b[0m\u001b[0m\n",
      "\u001b[1;32mC:\\ProgramData\\Miniconda3\\lib\\smtplib.py\u001b[0m in \u001b[0;36mauth\u001b[1;34m(self, mechanism, authobject, initial_response_ok)\u001b[0m\n\u001b[0;32m    640\u001b[0m         \u001b[1;32mif\u001b[0m \u001b[0mcode\u001b[0m \u001b[1;32min\u001b[0m \u001b[1;33m(\u001b[0m\u001b[1;36m235\u001b[0m\u001b[1;33m,\u001b[0m \u001b[1;36m503\u001b[0m\u001b[1;33m)\u001b[0m\u001b[1;33m:\u001b[0m\u001b[1;33m\u001b[0m\u001b[0m\n\u001b[0;32m    641\u001b[0m             \u001b[1;32mreturn\u001b[0m \u001b[1;33m(\u001b[0m\u001b[0mcode\u001b[0m\u001b[1;33m,\u001b[0m \u001b[0mresp\u001b[0m\u001b[1;33m)\u001b[0m\u001b[1;33m\u001b[0m\u001b[0m\n\u001b[1;32m--> 642\u001b[1;33m         \u001b[1;32mraise\u001b[0m \u001b[0mSMTPAuthenticationError\u001b[0m\u001b[1;33m(\u001b[0m\u001b[0mcode\u001b[0m\u001b[1;33m,\u001b[0m \u001b[0mresp\u001b[0m\u001b[1;33m)\u001b[0m\u001b[1;33m\u001b[0m\u001b[0m\n\u001b[0m\u001b[0;32m    643\u001b[0m \u001b[1;33m\u001b[0m\u001b[0m\n\u001b[0;32m    644\u001b[0m     \u001b[1;32mdef\u001b[0m \u001b[0mauth_cram_md5\u001b[0m\u001b[1;33m(\u001b[0m\u001b[0mself\u001b[0m\u001b[1;33m,\u001b[0m \u001b[0mchallenge\u001b[0m\u001b[1;33m=\u001b[0m\u001b[1;32mNone\u001b[0m\u001b[1;33m)\u001b[0m\u001b[1;33m:\u001b[0m\u001b[1;33m\u001b[0m\u001b[0m\n",
      "\u001b[1;31mSMTPAuthenticationError\u001b[0m: (534, b'5.7.14 <https://accounts.google.com/signin/continue?sarp=1&scc=1&plt=AKgnsbvq\\n5.7.14 B0AdguIlDo_Tu6HFIx_22krnsCTPK1fwbkGwxlOwiCG5Jw2LAnod2qCP2DT7xRiai_kDr4\\n5.7.14 Af_zpQh95CKl6gCPL6bFvSE4OdbjVpUvsUF61tpsoljBoge_kqIHxClDhzsyj-2McHBc__\\n5.7.14 Z3xBS3rxiaWMP-KICY_x8mhgR-yJgnO05ftyilXICHvyTKfxiTOa3IkMP8SSngcK01MgiN\\n5.7.14 1_oNNaNswIL3C8c64wEDz4thCQai4> Please log in via your web browser and\\n5.7.14 then try again.\\n5.7.14  Learn more at\\n5.7.14  https://support.google.com/mail/answer/78754 t7sm26127592pgu.77 - gsmtp')"
     ]
    }
   ],
   "source": [
    "# Access smtp server\n",
    "smtp = smtplib.SMTP('smtp.gmail.com', 587)\n",
    "smtp.ehlo()\n",
    "smtp.starttls()\n",
    "smtp.login('ledestin91@gmail.com', \"7895123a\")"
   ]
  },
  {
   "cell_type": "code",
   "execution_count": null,
   "metadata": {},
   "outputs": [],
   "source": [
    "# Make Msg\n",
    "msg = MIMEMultipart()\n",
    "msg['Subject'] = 'SMTP Send Text 테스트'"
   ]
  },
  {
   "cell_type": "code",
   "execution_count": null,
   "metadata": {},
   "outputs": [],
   "source": [
    "# Attach Text\n",
    "part = MIMEText('SMTP로 Text 메일 보내기 본문 메시지')\n",
    "msg.attach(part)"
   ]
  },
  {
   "cell_type": "code",
   "execution_count": null,
   "metadata": {},
   "outputs": [],
   "source": [
    "# send to multiful users\n",
    "for addr in toAddr:\n",
    "    msg['To'] = addr\n",
    "    smtp.sendmail('pdj1224@gmail.com', addr, msg.as_string())"
   ]
  },
  {
   "cell_type": "code",
   "execution_count": null,
   "metadata": {},
   "outputs": [],
   "source": [
    "# quit smtp service\n",
    "smtp.quit()"
   ]
  },
  {
   "cell_type": "markdown",
   "metadata": {},
   "source": [
    "##### send html"
   ]
  },
  {
   "cell_type": "code",
   "execution_count": 8,
   "metadata": {},
   "outputs": [
    {
     "ename": "SMTPAuthenticationError",
     "evalue": "(534, b'5.7.14 <https://accounts.google.com/signin/continue?sarp=1&scc=1&plt=AKgnsbs3\\n5.7.14 wmP8r57I5deeUecuBC4pj_G9WRMRaahgspIKL-h6Nl9b3zyyuwa_45gT8G7tQOUFv4djLA\\n5.7.14 4LUyBmBvi-HKcDWciJ0PgtHwPeHdDpiogK0ov9-IvXVH9qPenWbCxBbMfJjdivMXMjniiG\\n5.7.14 J2fxZ9Y2ZtZThlg-2mqAWVrNlK6wBuo8NQpUCBjBOQkTtJoUdCoZ7yTYl1BOcfcoy5zi9-\\n5.7.14 88jxMWtjN6f3V4p_9ghaQOk9pkI0I> Please log in via your web browser and\\n5.7.14 then try again.\\n5.7.14  Learn more at\\n5.7.14  https://support.google.com/mail/answer/78754 m21sm29787292pgn.37 - gsmtp')",
     "output_type": "error",
     "traceback": [
      "\u001b[1;31m---------------------------------------------------------------------------\u001b[0m",
      "\u001b[1;31mSMTPAuthenticationError\u001b[0m                   Traceback (most recent call last)",
      "\u001b[1;32m<ipython-input-8-2651eb23074a>\u001b[0m in \u001b[0;36m<module>\u001b[1;34m()\u001b[0m\n\u001b[0;32m      3\u001b[0m \u001b[0msmtp\u001b[0m\u001b[1;33m.\u001b[0m\u001b[0mehlo\u001b[0m\u001b[1;33m(\u001b[0m\u001b[1;33m)\u001b[0m\u001b[1;33m\u001b[0m\u001b[0m\n\u001b[0;32m      4\u001b[0m \u001b[0msmtp\u001b[0m\u001b[1;33m.\u001b[0m\u001b[0mstarttls\u001b[0m\u001b[1;33m(\u001b[0m\u001b[1;33m)\u001b[0m\u001b[1;33m\u001b[0m\u001b[0m\n\u001b[1;32m----> 5\u001b[1;33m \u001b[0msmtp\u001b[0m\u001b[1;33m.\u001b[0m\u001b[0mlogin\u001b[0m\u001b[1;33m(\u001b[0m\u001b[1;34m'ledestin91@gmail.com'\u001b[0m\u001b[1;33m,\u001b[0m \u001b[1;34m\"7895123a\"\u001b[0m \u001b[1;33m)\u001b[0m\u001b[1;33m\u001b[0m\u001b[0m\n\u001b[0m",
      "\u001b[1;32mC:\\ProgramData\\Miniconda3\\lib\\smtplib.py\u001b[0m in \u001b[0;36mlogin\u001b[1;34m(self, user, password, initial_response_ok)\u001b[0m\n\u001b[0;32m    728\u001b[0m \u001b[1;33m\u001b[0m\u001b[0m\n\u001b[0;32m    729\u001b[0m         \u001b[1;31m# We could not login successfully.  Return result of last attempt.\u001b[0m\u001b[1;33m\u001b[0m\u001b[1;33m\u001b[0m\u001b[0m\n\u001b[1;32m--> 730\u001b[1;33m         \u001b[1;32mraise\u001b[0m \u001b[0mlast_exception\u001b[0m\u001b[1;33m\u001b[0m\u001b[0m\n\u001b[0m\u001b[0;32m    731\u001b[0m \u001b[1;33m\u001b[0m\u001b[0m\n\u001b[0;32m    732\u001b[0m     \u001b[1;32mdef\u001b[0m \u001b[0mstarttls\u001b[0m\u001b[1;33m(\u001b[0m\u001b[0mself\u001b[0m\u001b[1;33m,\u001b[0m \u001b[0mkeyfile\u001b[0m\u001b[1;33m=\u001b[0m\u001b[1;32mNone\u001b[0m\u001b[1;33m,\u001b[0m \u001b[0mcertfile\u001b[0m\u001b[1;33m=\u001b[0m\u001b[1;32mNone\u001b[0m\u001b[1;33m,\u001b[0m \u001b[0mcontext\u001b[0m\u001b[1;33m=\u001b[0m\u001b[1;32mNone\u001b[0m\u001b[1;33m)\u001b[0m\u001b[1;33m:\u001b[0m\u001b[1;33m\u001b[0m\u001b[0m\n",
      "\u001b[1;32mC:\\ProgramData\\Miniconda3\\lib\\smtplib.py\u001b[0m in \u001b[0;36mlogin\u001b[1;34m(self, user, password, initial_response_ok)\u001b[0m\n\u001b[0;32m    719\u001b[0m                 (code, resp) = self.auth(\n\u001b[0;32m    720\u001b[0m                     \u001b[0mauthmethod\u001b[0m\u001b[1;33m,\u001b[0m \u001b[0mgetattr\u001b[0m\u001b[1;33m(\u001b[0m\u001b[0mself\u001b[0m\u001b[1;33m,\u001b[0m \u001b[0mmethod_name\u001b[0m\u001b[1;33m)\u001b[0m\u001b[1;33m,\u001b[0m\u001b[1;33m\u001b[0m\u001b[0m\n\u001b[1;32m--> 721\u001b[1;33m                     initial_response_ok=initial_response_ok)\n\u001b[0m\u001b[0;32m    722\u001b[0m                 \u001b[1;31m# 235 == 'Authentication successful'\u001b[0m\u001b[1;33m\u001b[0m\u001b[1;33m\u001b[0m\u001b[0m\n\u001b[0;32m    723\u001b[0m                 \u001b[1;31m# 503 == 'Error: already authenticated'\u001b[0m\u001b[1;33m\u001b[0m\u001b[1;33m\u001b[0m\u001b[0m\n",
      "\u001b[1;32mC:\\ProgramData\\Miniconda3\\lib\\smtplib.py\u001b[0m in \u001b[0;36mauth\u001b[1;34m(self, mechanism, authobject, initial_response_ok)\u001b[0m\n\u001b[0;32m    640\u001b[0m         \u001b[1;32mif\u001b[0m \u001b[0mcode\u001b[0m \u001b[1;32min\u001b[0m \u001b[1;33m(\u001b[0m\u001b[1;36m235\u001b[0m\u001b[1;33m,\u001b[0m \u001b[1;36m503\u001b[0m\u001b[1;33m)\u001b[0m\u001b[1;33m:\u001b[0m\u001b[1;33m\u001b[0m\u001b[0m\n\u001b[0;32m    641\u001b[0m             \u001b[1;32mreturn\u001b[0m \u001b[1;33m(\u001b[0m\u001b[0mcode\u001b[0m\u001b[1;33m,\u001b[0m \u001b[0mresp\u001b[0m\u001b[1;33m)\u001b[0m\u001b[1;33m\u001b[0m\u001b[0m\n\u001b[1;32m--> 642\u001b[1;33m         \u001b[1;32mraise\u001b[0m \u001b[0mSMTPAuthenticationError\u001b[0m\u001b[1;33m(\u001b[0m\u001b[0mcode\u001b[0m\u001b[1;33m,\u001b[0m \u001b[0mresp\u001b[0m\u001b[1;33m)\u001b[0m\u001b[1;33m\u001b[0m\u001b[0m\n\u001b[0m\u001b[0;32m    643\u001b[0m \u001b[1;33m\u001b[0m\u001b[0m\n\u001b[0;32m    644\u001b[0m     \u001b[1;32mdef\u001b[0m \u001b[0mauth_cram_md5\u001b[0m\u001b[1;33m(\u001b[0m\u001b[0mself\u001b[0m\u001b[1;33m,\u001b[0m \u001b[0mchallenge\u001b[0m\u001b[1;33m=\u001b[0m\u001b[1;32mNone\u001b[0m\u001b[1;33m)\u001b[0m\u001b[1;33m:\u001b[0m\u001b[1;33m\u001b[0m\u001b[0m\n",
      "\u001b[1;31mSMTPAuthenticationError\u001b[0m: (534, b'5.7.14 <https://accounts.google.com/signin/continue?sarp=1&scc=1&plt=AKgnsbs3\\n5.7.14 wmP8r57I5deeUecuBC4pj_G9WRMRaahgspIKL-h6Nl9b3zyyuwa_45gT8G7tQOUFv4djLA\\n5.7.14 4LUyBmBvi-HKcDWciJ0PgtHwPeHdDpiogK0ov9-IvXVH9qPenWbCxBbMfJjdivMXMjniiG\\n5.7.14 J2fxZ9Y2ZtZThlg-2mqAWVrNlK6wBuo8NQpUCBjBOQkTtJoUdCoZ7yTYl1BOcfcoy5zi9-\\n5.7.14 88jxMWtjN6f3V4p_9ghaQOk9pkI0I> Please log in via your web browser and\\n5.7.14 then try again.\\n5.7.14  Learn more at\\n5.7.14  https://support.google.com/mail/answer/78754 m21sm29787292pgn.37 - gsmtp')"
     ]
    }
   ],
   "source": [
    "# Access smtp server\n",
    "smtp = smtplib.SMTP('smtp.gmail.com', 587)\n",
    "smtp.ehlo()\n",
    "smtp.starttls()\n",
    "smtp.login('ledestin91@gmail.com', \"7895123a\" )"
   ]
  },
  {
   "cell_type": "code",
   "execution_count": null,
   "metadata": {},
   "outputs": [],
   "source": [
    "# Make Subject\n",
    "msg = MIMEMultipart()\n",
    "msg['Subject'] = 'SMTP Send HTML 테스트'"
   ]
  },
  {
   "cell_type": "code",
   "execution_count": null,
   "metadata": {},
   "outputs": [],
   "source": [
    "# Make Msg\n",
    "part = MIMEText('SMTP로 HTML 메일 보내기 본문 메시지')\n",
    "msg.attach(part)"
   ]
  },
  {
   "cell_type": "code",
   "execution_count": null,
   "metadata": {},
   "outputs": [],
   "source": [
    "# Attach HTML\n",
    "part1 = MIMEText('<a href=\"http://www.fastcampus.co.kr\">Fast Campus</a>', 'html')\n",
    "msg.attach(part1)"
   ]
  },
  {
   "cell_type": "code",
   "execution_count": null,
   "metadata": {},
   "outputs": [],
   "source": [
    "# send to multiful users\n",
    "for addr in toAddr:\n",
    "    msg['To'] = addr\n",
    "    smtp.sendmail('pdj1224@gmail.com', addr, msg.as_string())"
   ]
  },
  {
   "cell_type": "code",
   "execution_count": null,
   "metadata": {},
   "outputs": [],
   "source": [
    "# quit smtp service\n",
    "smtp.quit()"
   ]
  },
  {
   "cell_type": "markdown",
   "metadata": {},
   "source": [
    "##### send file"
   ]
  },
  {
   "cell_type": "code",
   "execution_count": null,
   "metadata": {},
   "outputs": [],
   "source": [
    "# Access smtp server\n",
    "smtp = smtplib.SMTP('smtp.gmail.com', 587)\n",
    "smtp.ehlo()\n",
    "smtp.starttls()\n",
    "smtp.login('pdj1224@gmail.com', pickle.load( open('pw.pickle', 'rb') ))"
   ]
  },
  {
   "cell_type": "code",
   "execution_count": null,
   "metadata": {},
   "outputs": [],
   "source": [
    "# Make Subject\n",
    "msg = MIMEMultipart()\n",
    "msg['Subject'] = 'Send File 테스트'"
   ]
  },
  {
   "cell_type": "code",
   "execution_count": null,
   "metadata": {},
   "outputs": [],
   "source": [
    "# Make Msg\n",
    "part = MIMEText('SMTP로 File 메일 보내기 본문 메시지')\n",
    "msg.attach(part)"
   ]
  },
  {
   "cell_type": "code",
   "execution_count": null,
   "metadata": {},
   "outputs": [],
   "source": [
    "# Attach FILE\n",
    "path = 'img.png'\n",
    "ctype = 'application/octet-stream'\n",
    "maintype, subtype = ctype.split('/', 1)\n",
    "with open(path, 'rb') as fp:\n",
    "    part = MIMEBase(maintype, subtype)\n",
    "    part.set_payload(fp.read())\n",
    "    encoders.encode_base64(part)\n",
    "    \n",
    "part.add_header('Content-Disposition', 'attachment', filename=path)\n",
    "msg.attach(part)"
   ]
  },
  {
   "cell_type": "code",
   "execution_count": null,
   "metadata": {},
   "outputs": [],
   "source": [
    "for addr in toAddr:\n",
    "    msg['To'] = addr\n",
    "    smtp.sendmail('pdj1224@gmail.com', addr, msg.as_string())"
   ]
  },
  {
   "cell_type": "code",
   "execution_count": null,
   "metadata": {},
   "outputs": [],
   "source": [
    "smtp.quit()"
   ]
  },
  {
   "cell_type": "markdown",
   "metadata": {},
   "source": [
    "#####  Make Function\n",
    "- 함수로 깔끔하게 만들어 보자"
   ]
  },
  {
   "cell_type": "code",
   "execution_count": null,
   "metadata": {},
   "outputs": [],
   "source": [
    "# Access smtp server\n",
    "def access_smtp_server(email, pw):\n",
    "    smtp = smtplib.SMTP('smtp.gmail.com', 587)\n",
    "    smtp.ehlo()\n",
    "    smtp.starttls()\n",
    "    smtp.login(email, pw)\n",
    "    return smtp\n",
    "\n",
    "# Make Subject\n",
    "def make_subject(subject_str):\n",
    "    msg = MIMEMultipart()\n",
    "    msg['Subject'] = subject_str\n",
    "    return msg\n",
    "\n",
    "# Make Msg\n",
    "def make_msg(msg, msg_str):\n",
    "    part = MIMEText(msg_str)\n",
    "    msg.attach(part)\n",
    "    return msg\n",
    "\n",
    "# Attach HTML\n",
    "def attach_html(msg, html_tag):\n",
    "    part = MIMEText(html_tag, 'html')\n",
    "    msg.attach(part)\n",
    "    return msg\n",
    "\n",
    "# Attach FILE\n",
    "def attach_file(msg, file_path):\n",
    "    \n",
    "    maintype, subtype = 'application', 'octet-stream'\n",
    "    \n",
    "    with open(file_path, 'rb') as fp:\n",
    "        part = MIMEBase(maintype, subtype)\n",
    "        part.set_payload(fp.read())\n",
    "        encoders.encode_base64(part)\n",
    "\n",
    "    part.add_header('Content-Disposition', 'attachment', filename=file_path)\n",
    "    msg.attach(part)\n",
    "    return msg\n",
    "\n",
    "# Send Email\n",
    "def send_email(smtp, email, msg, toAddr):\n",
    "    for addr in toAddr:\n",
    "        msg['To'] = addr\n",
    "        print(\"sending to [{}]...\".format(addr))\n",
    "        smtp.sendmail(email, addr, msg.as_string())\n",
    "    smtp.quit()"
   ]
  },
  {
   "cell_type": "code",
   "execution_count": null,
   "metadata": {},
   "outputs": [],
   "source": [
    "# smtp 연결\n",
    "email, pw = 'pdj1224@gmail.com', pickle.load( open('pw.pickle', 'rb') )\n",
    "smtp = access_smtp_server(email, pw)  \n",
    "\n",
    "# 제목 설정\n",
    "subject_str = \"Google SMTP로 메일 보내기\"\n",
    "msg = make_subject(subject_str)       \n",
    "\n",
    "# 텍스트 메시지 추가\n",
    "msg_str = \"Google SMTP로 메일 보내기 본문 입니다.\"\n",
    "msg = make_msg(msg, msg_str)        \n",
    "\n",
    "# HTML 메시지 추가\n",
    "html_tag = '<a href=\"http://www.fastcampus.co.kr\">Click Fast Campus</a>'\n",
    "msg = attach_html(msg, html_tag)\n",
    "\n",
    "# File 메시지 추가\n",
    "file_path = 'img.png'\n",
    "msg = attach_file(msg, file_path)\n",
    "file_path = 'video.mp4'\n",
    "msg = attach_file(msg, file_path)\n",
    "file_path = '99_Install_Selenium.pdf'\n",
    "msg = attach_file(msg, file_path)\n",
    "\n",
    "# Send Email\n",
    "toAddr = [\"1221pdj@naver.com\", \"pdj1224@daum.net\", \"radajin1224@gmail.com\"]\n",
    "send_email(smtp, email, msg, toAddr)"
   ]
  },
  {
   "cell_type": "code",
   "execution_count": null,
   "metadata": {},
   "outputs": [],
   "source": []
  }
 ],
 "metadata": {
  "kernelspec": {
   "display_name": "Python 3",
   "language": "python",
   "name": "python3"
  },
  "language_info": {
   "codemirror_mode": {
    "name": "ipython",
    "version": 3
   },
   "file_extension": ".py",
   "mimetype": "text/x-python",
   "name": "python",
   "nbconvert_exporter": "python",
   "pygments_lexer": "ipython3",
   "version": "3.6.3"
  }
 },
 "nbformat": 4,
 "nbformat_minor": 2
}
