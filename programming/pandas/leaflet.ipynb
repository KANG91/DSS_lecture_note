{
 "cells": [
  {
   "cell_type": "markdown",
   "metadata": {},
   "source": [
    "### Jupyter Notebook with leaflet\n",
    "referance \n",
    "- http://leafletjs.com/\n",
    "- https://github.com/ellisonbg/ipyleaflet\n",
    "- javastript이므로 주피터에서 사용하려면 두 번째꺼 들어감.\n",
    "\n",
    "```\n",
    "mac\n",
    "$ pip3 install ipyleaflet\n",
    "$ pip3 install ipywidgets\n",
    "\n",
    "conda install -c conda-forge ipyleaflet\n",
    "conda install -c anaconda ipywidgets\n",
    "\n",
    "windows\n",
    "$ jupyter nbextension install --py --symlink --sys-prefix ipyleaflet\n",
    "$ jupyter nbextension enable --py --sys-prefix ipyleaflet\n",
    "$ jupyter nbextension enable ---py widgetsnbextension\n",
    "```\n",
    "- jupyter notebook restart"
   ]
  },
  {
   "cell_type": "code",
   "execution_count": 3,
   "metadata": {},
   "outputs": [
    {
     "ename": "SyntaxError",
     "evalue": "invalid syntax (<ipython-input-3-382231ab3e65>, line 1)",
     "output_type": "error",
     "traceback": [
      "\u001b[0;36m  File \u001b[0;32m\"<ipython-input-3-382231ab3e65>\"\u001b[0;36m, line \u001b[0;32m1\u001b[0m\n\u001b[0;31m    pip3 install ipyleaflet\u001b[0m\n\u001b[0m               ^\u001b[0m\n\u001b[0;31mSyntaxError\u001b[0m\u001b[0;31m:\u001b[0m invalid syntax\n"
     ]
    }
   ],
   "source": [
    "pip3 install ipyleaflet\n",
    "git clone https://github.com/ellisonbg/ipyleaflet.git\n",
    "cd ipyleaflet\n",
    "sudo pip3 install -e .\n",
    "jupyter nbextension install --py --symlink --sys-prefix ipyleaflet\n",
    "jupyter nbextension enable --py --sys-prefix ipyleaflet"
   ]
  },
  {
   "cell_type": "code",
   "execution_count": 1,
   "metadata": {
    "collapsed": true
   },
   "outputs": [],
   "source": [
    "from ipyleaflet import *\n",
    "import pandas as pd\n",
    "import time"
   ]
  },
  {
   "cell_type": "markdown",
   "metadata": {},
   "source": [
    "##### Basic"
   ]
  },
  {
   "cell_type": "code",
   "execution_count": 2,
   "metadata": {},
   "outputs": [
    {
     "data": {
      "application/vnd.jupyter.widget-view+json": {
       "model_id": "7fa51947613a4df98186d3878b7c96e9",
       "version_major": 2,
       "version_minor": 0
      },
      "text/html": [
       "<p>Failed to display Jupyter Widget of type <code>Map</code>.</p>\n",
       "<p>\n",
       "  If you're reading this message in the Jupyter Notebook or JupyterLab Notebook, it may mean\n",
       "  that the widgets JavaScript is still loading. If this message persists, it\n",
       "  likely means that the widgets JavaScript library is either not installed or\n",
       "  not enabled. See the <a href=\"https://ipywidgets.readthedocs.io/en/stable/user_install.html\">Jupyter\n",
       "  Widgets Documentation</a> for setup instructions.\n",
       "</p>\n",
       "<p>\n",
       "  If you're reading this message in another frontend (for example, a static\n",
       "  rendering on GitHub or <a href=\"https://nbviewer.jupyter.org/\">NBViewer</a>),\n",
       "  it may mean that your frontend doesn't currently support widgets.\n",
       "</p>\n"
      ],
      "text/plain": [
       "Map(basemap={'url': 'https://{s}.tile.openstreetmap.org/{z}/{x}/{y}.png', 'max_zoom': 19, 'attribution': 'Map data (c) <a href=\"https://openstreetmap.org\">OpenStreetMap</a> contributors'}, center=[37.566535, 126.97796919999996], default_tiles=TileLayer(max_zoom=19, min_zoom=1, options=['attribution', 'detect_retina', 'max_zoom', 'min_zoom', 'opacity', 'tile_size']), layers=(TileLayer(max_zoom=19, min_zoom=1, options=['attribution', 'detect_retina', 'max_zoom', 'min_zoom', 'opacity', 'tile_size']),), layout=Layout(align_self='stretch', height='400px'), options=['attribution_control', 'basemap', 'bounce_at_zoom_limits', 'box_zoom', 'center', 'close_popup_on_click', 'double_click_zoom', 'dragging', 'inertia', 'inertia_deceleration', 'inertia_max_speed', 'keyboard', 'keyboard_pan_offset', 'keyboard_zoom_offset', 'max_zoom', 'min_zoom', 'scroll_wheel_zoom', 'tap', 'tap_tolerance', 'touch_zoom', 'world_copy_jump', 'zoom', 'zoom_animation_threshold', 'zoom_control', 'zoom_start'], zoom=13)"
      ]
     },
     "metadata": {},
     "output_type": "display_data"
    }
   ],
   "source": [
    "center = [37.566535, 126.97796919999996]\n",
    "zoom = 13\n",
    "m = Map(center=center, zoom=zoom)\n",
    "m"
   ]
  },
  {
   "cell_type": "markdown",
   "metadata": {},
   "source": [
    "##### Add Marker"
   ]
  },
  {
   "cell_type": "code",
   "execution_count": 3,
   "metadata": {
    "collapsed": true
   },
   "outputs": [],
   "source": [
    "marker = Marker(location=center)\n",
    "m += marker"
   ]
  },
  {
   "cell_type": "code",
   "execution_count": 14,
   "metadata": {},
   "outputs": [
    {
     "name": "stdout",
     "output_type": "stream",
     "text": [
      "1\n",
      "1\n",
      "1\n",
      "1\n",
      "1\n",
      "1\n",
      "1\n",
      "1\n",
      "1\n",
      "1\n",
      "1\n",
      "1\n",
      "2\n"
     ]
    },
    {
     "data": {
      "application/vnd.jupyter.widget-view+json": {
       "model_id": "b2d2cfe4d1144257ba4035487e7eee7f",
       "version_major": 2,
       "version_minor": 0
      },
      "text/html": [
       "<p>Failed to display Jupyter Widget of type <code>Map</code>.</p>\n",
       "<p>\n",
       "  If you're reading this message in the Jupyter Notebook or JupyterLab Notebook, it may mean\n",
       "  that the widgets JavaScript is still loading. If this message persists, it\n",
       "  likely means that the widgets JavaScript library is either not installed or\n",
       "  not enabled. See the <a href=\"https://ipywidgets.readthedocs.io/en/stable/user_install.html\">Jupyter\n",
       "  Widgets Documentation</a> for setup instructions.\n",
       "</p>\n",
       "<p>\n",
       "  If you're reading this message in another frontend (for example, a static\n",
       "  rendering on GitHub or <a href=\"https://nbviewer.jupyter.org/\">NBViewer</a>),\n",
       "  it may mean that your frontend doesn't currently support widgets.\n",
       "</p>\n"
      ],
      "text/plain": [
       "Map(basemap={'url': 'https://{s}.tile.openstreetmap.org/{z}/{x}/{y}.png', 'max_zoom': 19, 'attribution': 'Map data (c) <a href=\"https://openstreetmap.org\">OpenStreetMap</a> contributors'}, center=[37.56648729188658, 126.9778347015381], default_tiles=TileLayer(max_zoom=19, min_zoom=1, options=['attribution', 'detect_retina', 'max_zoom', 'min_zoom', 'opacity', 'tile_size']), layers=(TileLayer(max_zoom=19, min_zoom=1, options=['attribution', 'detect_retina', 'max_zoom', 'min_zoom', 'opacity', 'tile_size']), Marker(location=[37.566535, 126.97796919999996], options=['alt', 'clickable', 'draggable', 'keyboard', 'opacity', 'rise_offset', 'rise_on_hover', 'title', 'z_index_offset']), Marker(location=[37.551286, 126.9882895], options=['alt', 'clickable', 'draggable', 'keyboard', 'opacity', 'rise_offset', 'rise_on_hover', 'title', 'z_index_offset']), Marker(location=[37.551286, 126.9882895], options=['alt', 'clickable', 'draggable', 'keyboard', 'opacity', 'rise_offset', 'rise_on_hover', 'title', 'z_index_offset']), Marker(location=[37.551286, 126.9882895], options=['alt', 'clickable', 'draggable', 'keyboard', 'opacity', 'rise_offset', 'rise_on_hover', 'title', 'z_index_offset']), Marker(location=[37.5788963, 126.9770479], options=['alt', 'clickable', 'draggable', 'keyboard', 'opacity', 'rise_offset', 'rise_on_hover', 'title', 'z_index_offset']), Marker(location=[37.5708304, 126.968566], options=['alt', 'clickable', 'draggable', 'keyboard', 'opacity', 'rise_offset', 'rise_on_hover', 'title', 'z_index_offset']), Marker(location=[37.5701334, 126.9996494], options=['alt', 'clickable', 'draggable', 'keyboard', 'opacity', 'rise_offset', 'rise_on_hover', 'title', 'z_index_offset']), Marker(location=[37.5814166, 126.9851086], options=['alt', 'clickable', 'draggable', 'keyboard', 'opacity', 'rise_offset', 'rise_on_hover', 'title', 'z_index_offset']), Marker(location=[37.573965, 126.9851077], options=['alt', 'clickable', 'draggable', 'keyboard', 'opacity', 'rise_offset', 'rise_on_hover', 'title', 'z_index_offset']), Marker(location=[37.575861, 126.9939803], options=['alt', 'clickable', 'draggable', 'keyboard', 'opacity', 'rise_offset', 'rise_on_hover', 'title', 'z_index_offset']), Marker(location=[37.5795568, 126.9941684], options=['alt', 'clickable', 'draggable', 'keyboard', 'opacity', 'rise_offset', 'rise_on_hover', 'title', 'z_index_offset']), Marker(location=[37.5826647, 126.9919641], options=['alt', 'clickable', 'draggable', 'keyboard', 'opacity', 'rise_offset', 'rise_on_hover', 'title', 'z_index_offset']), Marker(location=[37.5594484, 126.977687], options=['alt', 'clickable', 'draggable', 'keyboard', 'opacity', 'rise_offset', 'rise_on_hover', 'title', 'z_index_offset']), Marker(location=[37.5672187, 127.0098308], options=['alt', 'clickable', 'draggable', 'keyboard', 'opacity', 'rise_offset', 'rise_on_hover', 'title', 'z_index_offset']), Marker(location=[37.5630049, 126.9847015], options=['alt', 'clickable', 'draggable', 'keyboard', 'opacity', 'rise_offset', 'rise_on_hover', 'title', 'z_index_offset']), Marker(location=[37.551286, 126.9882895], options=['alt', 'clickable', 'draggable', 'keyboard', 'opacity', 'rise_offset', 'rise_on_hover', 'title', 'z_index_offset']), Marker(location=[37.5788963, 126.9770479], options=['alt', 'clickable', 'draggable', 'keyboard', 'opacity', 'rise_offset', 'rise_on_hover', 'title', 'z_index_offset']), Marker(location=[37.5708304, 126.968566], options=['alt', 'clickable', 'draggable', 'keyboard', 'opacity', 'rise_offset', 'rise_on_hover', 'title', 'z_index_offset']), Marker(location=[37.5701334, 126.9996494], options=['alt', 'clickable', 'draggable', 'keyboard', 'opacity', 'rise_offset', 'rise_on_hover', 'title', 'z_index_offset']), Marker(location=[37.5814166, 126.9851086], options=['alt', 'clickable', 'draggable', 'keyboard', 'opacity', 'rise_offset', 'rise_on_hover', 'title', 'z_index_offset']), Marker(location=[37.573965, 126.9851077], options=['alt', 'clickable', 'draggable', 'keyboard', 'opacity', 'rise_offset', 'rise_on_hover', 'title', 'z_index_offset']), Marker(location=[37.575861, 126.9939803], options=['alt', 'clickable', 'draggable', 'keyboard', 'opacity', 'rise_offset', 'rise_on_hover', 'title', 'z_index_offset']), Marker(location=[37.5795568, 126.9941684], options=['alt', 'clickable', 'draggable', 'keyboard', 'opacity', 'rise_offset', 'rise_on_hover', 'title', 'z_index_offset']), Marker(location=[37.5826647, 126.9919641], options=['alt', 'clickable', 'draggable', 'keyboard', 'opacity', 'rise_offset', 'rise_on_hover', 'title', 'z_index_offset']), Marker(location=[37.5594484, 126.977687], options=['alt', 'clickable', 'draggable', 'keyboard', 'opacity', 'rise_offset', 'rise_on_hover', 'title', 'z_index_offset']), Marker(location=[37.5672187, 127.0098308], options=['alt', 'clickable', 'draggable', 'keyboard', 'opacity', 'rise_offset', 'rise_on_hover', 'title', 'z_index_offset']), Marker(location=[37.5630049, 126.9847015], options=['alt', 'clickable', 'draggable', 'keyboard', 'opacity', 'rise_offset', 'rise_on_hover', 'title', 'z_index_offset']), Marker(location=[37.551286, 126.9882895], options=['alt', 'clickable', 'draggable', 'keyboard', 'opacity', 'rise_offset', 'rise_on_hover', 'title', 'z_index_offset']), Marker(location=[37.5788963, 126.9770479], options=['alt', 'clickable', 'draggable', 'keyboard', 'opacity', 'rise_offset', 'rise_on_hover', 'title', 'z_index_offset']), Marker(location=[37.5708304, 126.968566], options=['alt', 'clickable', 'draggable', 'keyboard', 'opacity', 'rise_offset', 'rise_on_hover', 'title', 'z_index_offset']), Marker(location=[37.5701334, 126.9996494], options=['alt', 'clickable', 'draggable', 'keyboard', 'opacity', 'rise_offset', 'rise_on_hover', 'title', 'z_index_offset']), Marker(location=[37.5814166, 126.9851086], options=['alt', 'clickable', 'draggable', 'keyboard', 'opacity', 'rise_offset', 'rise_on_hover', 'title', 'z_index_offset']), Marker(location=[37.573965, 126.9851077], options=['alt', 'clickable', 'draggable', 'keyboard', 'opacity', 'rise_offset', 'rise_on_hover', 'title', 'z_index_offset']), Marker(location=[37.575861, 126.9939803], options=['alt', 'clickable', 'draggable', 'keyboard', 'opacity', 'rise_offset', 'rise_on_hover', 'title', 'z_index_offset']), Marker(location=[37.5795568, 126.9941684], options=['alt', 'clickable', 'draggable', 'keyboard', 'opacity', 'rise_offset', 'rise_on_hover', 'title', 'z_index_offset']), Marker(location=[37.5826647, 126.9919641], options=['alt', 'clickable', 'draggable', 'keyboard', 'opacity', 'rise_offset', 'rise_on_hover', 'title', 'z_index_offset']), Marker(location=[37.5594484, 126.977687], options=['alt', 'clickable', 'draggable', 'keyboard', 'opacity', 'rise_offset', 'rise_on_hover', 'title', 'z_index_offset']), Marker(location=[37.5672187, 127.0098308], options=['alt', 'clickable', 'draggable', 'keyboard', 'opacity', 'rise_offset', 'rise_on_hover', 'title', 'z_index_offset']), Marker(location=[37.5630049, 126.9847015], options=['alt', 'clickable', 'draggable', 'keyboard', 'opacity', 'rise_offset', 'rise_on_hover', 'title', 'z_index_offset']), Marker(location=[37.551286, 126.9882895], options=['alt', 'clickable', 'draggable', 'keyboard', 'opacity', 'rise_offset', 'rise_on_hover', 'title', 'z_index_offset']), Marker(location=[37.5788963, 126.9770479], options=['alt', 'clickable', 'draggable', 'keyboard', 'opacity', 'rise_offset', 'rise_on_hover', 'title', 'z_index_offset']), Marker(location=[37.5708304, 126.968566], options=['alt', 'clickable', 'draggable', 'keyboard', 'opacity', 'rise_offset', 'rise_on_hover', 'title', 'z_index_offset']), Marker(location=[37.5701334, 126.9996494], options=['alt', 'clickable', 'draggable', 'keyboard', 'opacity', 'rise_offset', 'rise_on_hover', 'title', 'z_index_offset']), Marker(location=[37.5814166, 126.9851086], options=['alt', 'clickable', 'draggable', 'keyboard', 'opacity', 'rise_offset', 'rise_on_hover', 'title', 'z_index_offset']), Marker(location=[37.573965, 126.9851077], options=['alt', 'clickable', 'draggable', 'keyboard', 'opacity', 'rise_offset', 'rise_on_hover', 'title', 'z_index_offset']), Marker(location=[37.575861, 126.9939803], options=['alt', 'clickable', 'draggable', 'keyboard', 'opacity', 'rise_offset', 'rise_on_hover', 'title', 'z_index_offset']), Marker(location=[37.5795568, 126.9941684], options=['alt', 'clickable', 'draggable', 'keyboard', 'opacity', 'rise_offset', 'rise_on_hover', 'title', 'z_index_offset']), Marker(location=[37.5826647, 126.9919641], options=['alt', 'clickable', 'draggable', 'keyboard', 'opacity', 'rise_offset', 'rise_on_hover', 'title', 'z_index_offset']), Marker(location=[37.5594484, 126.977687], options=['alt', 'clickable', 'draggable', 'keyboard', 'opacity', 'rise_offset', 'rise_on_hover', 'title', 'z_index_offset']), Marker(location=[37.5672187, 127.0098308], options=['alt', 'clickable', 'draggable', 'keyboard', 'opacity', 'rise_offset', 'rise_on_hover', 'title', 'z_index_offset']), Marker(location=[37.5630049, 126.9847015], options=['alt', 'clickable', 'draggable', 'keyboard', 'opacity', 'rise_offset', 'rise_on_hover', 'title', 'z_index_offset']), Marker(location=[37.551286, 126.9882895], options=['alt', 'clickable', 'draggable', 'keyboard', 'opacity', 'rise_offset', 'rise_on_hover', 'title', 'z_index_offset']), Marker(location=[37.5788963, 126.9770479], options=['alt', 'clickable', 'draggable', 'keyboard', 'opacity', 'rise_offset', 'rise_on_hover', 'title', 'z_index_offset']), Marker(location=[37.5708304, 126.968566], options=['alt', 'clickable', 'draggable', 'keyboard', 'opacity', 'rise_offset', 'rise_on_hover', 'title', 'z_index_offset']), Marker(location=[37.5701334, 126.9996494], options=['alt', 'clickable', 'draggable', 'keyboard', 'opacity', 'rise_offset', 'rise_on_hover', 'title', 'z_index_offset']), Marker(location=[37.5814166, 126.9851086], options=['alt', 'clickable', 'draggable', 'keyboard', 'opacity', 'rise_offset', 'rise_on_hover', 'title', 'z_index_offset']), Marker(location=[37.573965, 126.9851077], options=['alt', 'clickable', 'draggable', 'keyboard', 'opacity', 'rise_offset', 'rise_on_hover', 'title', 'z_index_offset']), Marker(location=[37.575861, 126.9939803], options=['alt', 'clickable', 'draggable', 'keyboard', 'opacity', 'rise_offset', 'rise_on_hover', 'title', 'z_index_offset']), Marker(location=[37.5795568, 126.9941684], options=['alt', 'clickable', 'draggable', 'keyboard', 'opacity', 'rise_offset', 'rise_on_hover', 'title', 'z_index_offset']), Marker(location=[37.5826647, 126.9919641], options=['alt', 'clickable', 'draggable', 'keyboard', 'opacity', 'rise_offset', 'rise_on_hover', 'title', 'z_index_offset']), Marker(location=[37.5594484, 126.977687], options=['alt', 'clickable', 'draggable', 'keyboard', 'opacity', 'rise_offset', 'rise_on_hover', 'title', 'z_index_offset']), Marker(location=[37.5672187, 127.0098308], options=['alt', 'clickable', 'draggable', 'keyboard', 'opacity', 'rise_offset', 'rise_on_hover', 'title', 'z_index_offset']), Marker(location=[37.5630049, 126.9847015], options=['alt', 'clickable', 'draggable', 'keyboard', 'opacity', 'rise_offset', 'rise_on_hover', 'title', 'z_index_offset']), Marker(location=[37.551286, 126.9882895], options=['alt', 'clickable', 'draggable', 'keyboard', 'opacity', 'rise_offset', 'rise_on_hover', 'title', 'z_index_offset']), Marker(location=[37.5788963, 126.9770479], options=['alt', 'clickable', 'draggable', 'keyboard', 'opacity', 'rise_offset', 'rise_on_hover', 'title', 'z_index_offset']), Marker(location=[37.5708304, 126.968566], options=['alt', 'clickable', 'draggable', 'keyboard', 'opacity', 'rise_offset', 'rise_on_hover', 'title', 'z_index_offset']), Marker(location=[37.5701334, 126.9996494], options=['alt', 'clickable', 'draggable', 'keyboard', 'opacity', 'rise_offset', 'rise_on_hover', 'title', 'z_index_offset']), Marker(location=[37.5814166, 126.9851086], options=['alt', 'clickable', 'draggable', 'keyboard', 'opacity', 'rise_offset', 'rise_on_hover', 'title', 'z_index_offset']), Marker(location=[37.573965, 126.9851077], options=['alt', 'clickable', 'draggable', 'keyboard', 'opacity', 'rise_offset', 'rise_on_hover', 'title', 'z_index_offset']), Marker(location=[37.575861, 126.9939803], options=['alt', 'clickable', 'draggable', 'keyboard', 'opacity', 'rise_offset', 'rise_on_hover', 'title', 'z_index_offset']), Marker(location=[37.5795568, 126.9941684], options=['alt', 'clickable', 'draggable', 'keyboard', 'opacity', 'rise_offset', 'rise_on_hover', 'title', 'z_index_offset']), Marker(location=[37.5826647, 126.9919641], options=['alt', 'clickable', 'draggable', 'keyboard', 'opacity', 'rise_offset', 'rise_on_hover', 'title', 'z_index_offset']), Marker(location=[37.5594484, 126.977687], options=['alt', 'clickable', 'draggable', 'keyboard', 'opacity', 'rise_offset', 'rise_on_hover', 'title', 'z_index_offset']), Marker(location=[37.5672187, 127.0098308], options=['alt', 'clickable', 'draggable', 'keyboard', 'opacity', 'rise_offset', 'rise_on_hover', 'title', 'z_index_offset']), Marker(location=[37.5630049, 126.9847015], options=['alt', 'clickable', 'draggable', 'keyboard', 'opacity', 'rise_offset', 'rise_on_hover', 'title', 'z_index_offset'])), layout=Layout(align_self='stretch', height='400px'), options=['attribution_control', 'basemap', 'bounce_at_zoom_limits', 'box_zoom', 'center', 'close_popup_on_click', 'double_click_zoom', 'dragging', 'inertia', 'inertia_deceleration', 'inertia_max_speed', 'keyboard', 'keyboard_pan_offset', 'keyboard_zoom_offset', 'max_zoom', 'min_zoom', 'scroll_wheel_zoom', 'tap', 'tap_tolerance', 'touch_zoom', 'world_copy_jump', 'zoom', 'zoom_animation_threshold', 'zoom_control', 'zoom_start'], zoom=13)"
      ]
     },
     "metadata": {},
     "output_type": "display_data"
    }
   ],
   "source": [
    "locs = [(37.551286,126.9882895),\n",
    "        (37.5788963,126.9770479),\n",
    "        (37.5708304,126.968566),\n",
    "        (37.5701334,126.9996494),\n",
    "        (37.5814166,126.9851086),\n",
    "        (37.573965,126.9851077),\n",
    "        (37.575861,126.9939803),\n",
    "        (37.5795568,126.9941684),\n",
    "        (37.5826647,126.9919641),\n",
    "        (37.5594484,126.977687),\n",
    "        (37.5672187,127.0098308),\n",
    "        (37.5630049,126.9847015),\n",
    "       ]\n",
    "for loc in locs:\n",
    "    marker = Marker(location=loc) \n",
    "    m = m + marker\n",
    "m"
   ]
  },
  {
   "cell_type": "markdown",
   "metadata": {},
   "source": [
    "##### Add Control"
   ]
  },
  {
   "cell_type": "code",
   "execution_count": 6,
   "metadata": {
    "collapsed": true
   },
   "outputs": [],
   "source": [
    "dc = DrawControl(circle={'shapeOptions':{'color':'#0000FF'}}, rectangle={'shapeOptions':{'color':'#0000FF'}})\n",
    "m.add_control(dc)"
   ]
  },
  {
   "cell_type": "code",
   "execution_count": null,
   "metadata": {
    "collapsed": true
   },
   "outputs": [],
   "source": []
  }
 ],
 "metadata": {
  "kernelspec": {
   "display_name": "Python 3",
   "language": "python",
   "name": "python3"
  },
  "language_info": {
   "codemirror_mode": {
    "name": "ipython",
    "version": 3
   },
   "file_extension": ".py",
   "mimetype": "text/x-python",
   "name": "python",
   "nbconvert_exporter": "python",
   "pygments_lexer": "ipython3",
   "version": "3.6.3"
  }
 },
 "nbformat": 4,
 "nbformat_minor": 2
}
