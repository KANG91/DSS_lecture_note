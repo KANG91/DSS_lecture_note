{
 "cells": [
  {
   "cell_type": "markdown",
   "metadata": {},
   "source": [
    "# Quiz"
   ]
  },
  {
   "cell_type": "markdown",
   "metadata": {},
   "source": [
    "##### 1. 5명의 이름을 입력 받아 kim인 성을 가진 사람의 수를 출력\n",
    "- [성(공백)이름] 형태로만 입력(ex : park doojin)"
   ]
  },
  {
   "cell_type": "code",
   "execution_count": null,
   "metadata": {
    "collapsed": true
   },
   "outputs": [],
   "source": [
    "# kim sung, Kim daegu, park sangjin, lee minsung, jung sunin\n",
    "\n",
    "# names = []\n",
    "\n",
    "# for _ in range(5):\n",
    "#     name = input(\"insert name : \")\n",
    "#     names.append(name)\n",
    "\n",
    "names = ['kim sung', 'Kim daegu', 'park sangjin', 'lee minsung', 'jung sunin']\n",
    "\n",
    "count = 0\n",
    "\n",
    "for name in names:\n",
    "    \n",
    "    family_name = name.split(\" \")[0].lower()\n",
    "    \n",
    "    if family_name == \"kim\":\n",
    "        count += 1\n",
    "\n",
    "names, count        "
   ]
  },
  {
   "cell_type": "markdown",
   "metadata": {},
   "source": [
    "##### 2. 2단에서 9단까지 구구단을 출력하는 프로그램을 작성"
   ]
  },
  {
   "cell_type": "markdown",
   "metadata": {},
   "source": [
    "- 가로로 출력"
   ]
  },
  {
   "cell_type": "code",
   "execution_count": null,
   "metadata": {
    "collapsed": true
   },
   "outputs": [],
   "source": [
    "for num1 in range(2,10):\n",
    "    print(\"{}단\".format(num1))\n",
    "    for num2 in range(1,10):\n",
    "        print(\"{}*{}={}\".format(num1, num2, num1*num2))\n",
    "    print()"
   ]
  },
  {
   "cell_type": "markdown",
   "metadata": {},
   "source": [
    "- 세로로 출력"
   ]
  },
  {
   "cell_type": "code",
   "execution_count": null,
   "metadata": {
    "collapsed": true
   },
   "outputs": [],
   "source": [
    "for num2 in range(1,10):\n",
    "    for num1 in range(2,10):\n",
    "        print(\"{}*{}={}\".format(num1, num2, num1*num2), end=\"\\t\")\n",
    "    print()"
   ]
  },
  {
   "cell_type": "markdown",
   "metadata": {},
   "source": [
    "- 입력 받은 단수의 구구단을 출력"
   ]
  },
  {
   "cell_type": "code",
   "execution_count": null,
   "metadata": {
    "collapsed": true
   },
   "outputs": [],
   "source": [
    "num1 = int(input(\"insert number : \"))\n",
    "\n",
    "for num2 in range(1,10):\n",
    "    print(\"{}*{}={}\".format(num1, num2, num1*num2))"
   ]
  },
  {
   "cell_type": "markdown",
   "metadata": {},
   "source": [
    "##### 3. up down으로 숫자 맞추기 게임\n",
    "- 랜덤으로 숫자(1~100)를 발생시킴\n",
    "- 숫자를 입력받아 랜덤숫자가 입력받은 숫자보다 크면 Up을 출력, 작으면 Down을 출력\n",
    "- 랜덤 숫자를 맞추면 몇번만에 맞췄는지 카운트를 알려줌\n",
    "- 랜덤수 발생 방법\n",
    "```\n",
    "import random\n",
    "random_number = random.randint(1,100)\n",
    "```"
   ]
  },
  {
   "cell_type": "code",
   "execution_count": null,
   "metadata": {
    "collapsed": true
   },
   "outputs": [],
   "source": [
    "import random\n",
    "\n",
    "random_number = random.randint(1,100)\n",
    "\n",
    "count = 0\n",
    "\n",
    "while True:\n",
    "    \n",
    "    input_number = int(input(\"insert number : \"))\n",
    "    count += 1\n",
    "    \n",
    "    if random_number < input_number:\n",
    "        print(\"Down\")\n",
    "    elif random_number > input_number:\n",
    "        print(\"Up\")\n",
    "    else:\n",
    "        print(\"{}번 만에 맞추셨습니다.\".format(count))\n",
    "        break"
   ]
  },
  {
   "cell_type": "markdown",
   "metadata": {},
   "source": [
    "##### 5. 로또번호 출력\n",
    "- 1~45의 6자리의 로또번호를 출력"
   ]
  },
  {
   "cell_type": "code",
   "execution_count": null,
   "metadata": {
    "collapsed": true
   },
   "outputs": [],
   "source": [
    "import random\n",
    "from functools import reduce\n",
    "result = []\n",
    "while len(ls) < 6 :\n",
    "    random_number = random.randint(1, 45)\n",
    "    \n",
    "    if random_number not in result :\n",
    "        result.append(random_number)\n",
    "\n",
    "result.sort()\n",
    "result"
   ]
  },
  {
   "cell_type": "code",
   "execution_count": null,
   "metadata": {
    "collapsed": true
   },
   "outputs": [],
   "source": [
    "%%writefile \n",
    "\n",
    "import random\n",
    "from functools import reduce\n",
    "result = []\n",
    "while len(ls) < 6 :\n",
    "    random_number = random.randint(1, 45)\n",
    "    \n",
    "    if random_number not in result :\n",
    "        result.append(random_number)\n",
    "\n",
    "result.sort()\n",
    "result"
   ]
  },
  {
   "cell_type": "markdown",
   "metadata": {},
   "source": [
    "##### 6. FizzBuzz\n",
    "- 1에서 1씩 숫자를 입력받은 숫자까지 증가시키며 3의 배수에서는 Fizz 5의 배수에서는 Buzz 가 출력되도록 프로그램을 작성\n",
    "- 3과 5의 배수에서는 FizzBuzz가 출력"
   ]
  },
  {
   "cell_type": "code",
   "execution_count": null,
   "metadata": {
    "collapsed": true
   },
   "outputs": [],
   "source": [
    "number = int(input(\"insert number : \"))\n",
    "for i in range(1, number + 1 ) :\n",
    "    print(i)\n",
    "    if i % 15 == 0 :\n",
    "        print(\"FizzBUzz\")\n",
    "    elif i % 5 == 0:\n",
    "        print(\"Buzz\")\n",
    "    elif i % 3 == 0 :\n",
    "        print(\"Fizz\")"
   ]
  },
  {
   "cell_type": "markdown",
   "metadata": {},
   "source": [
    "##### 7. 별찍기 "
   ]
  },
  {
   "cell_type": "markdown",
   "metadata": {},
   "source": [
    "- 숫자를 입력 받아 아래와 같이 별찍기 1"
   ]
  },
  {
   "cell_type": "code",
   "execution_count": null,
   "metadata": {
    "collapsed": true
   },
   "outputs": [],
   "source": [
    "number = int(input(\"insert number : \"))\n",
    "for i in range(number) :\n",
    "    print('*' * i)"
   ]
  },
  {
   "cell_type": "markdown",
   "metadata": {},
   "source": [
    "- 숫자를 입력받아 아래와 같이 별찍기 2"
   ]
  },
  {
   "cell_type": "code",
   "execution_count": null,
   "metadata": {
    "collapsed": true
   },
   "outputs": [],
   "source": [
    "number = int(input(\"insert number : \"))\n",
    "for i in range(number) :\n",
    "    print(('*' * i).rjust(number))"
   ]
  },
  {
   "cell_type": "markdown",
   "metadata": {},
   "source": [
    "- 홀수를 입력 받아 아래와 같이 별을 찍으세요 3"
   ]
  },
  {
   "cell_type": "code",
   "execution_count": null,
   "metadata": {
    "collapsed": true
   },
   "outputs": [],
   "source": [
    "number = int(input(\"insert number : \"))\n",
    "for i in range(1,number,2) :\n",
    "    print(('*' * i).center(10))\n",
    "    \n"
   ]
  },
  {
   "cell_type": "markdown",
   "metadata": {},
   "source": [
    "- 홀수를 입력 받아 아래와 같이 별을 찍으세요 4"
   ]
  },
  {
   "cell_type": "code",
   "execution_count": null,
   "metadata": {
    "collapsed": true
   },
   "outputs": [],
   "source": [
    "number = int(input(\"insert number : \"))\n",
    "for i in range(number,0,-1) :\n",
    "    if i % 2 != 0 :\n",
    "        print(('*' * i).center(10))"
   ]
  },
  {
   "cell_type": "markdown",
   "metadata": {},
   "source": [
    "- 홀수의 숫자를 입력받아 다이아몬드 형태의 별을 찍음 5"
   ]
  },
  {
   "cell_type": "code",
   "execution_count": null,
   "metadata": {
    "collapsed": true
   },
   "outputs": [],
   "source": []
  },
  {
   "cell_type": "code",
   "execution_count": null,
   "metadata": {
    "collapsed": true
   },
   "outputs": [],
   "source": [
    "number = int(input(\"insert number : \"))\n",
    "for i in range(number + 1) :\n",
    "    if i % 2 != 0 :\n",
    "        print(('*' * i).center(number))\n",
    "\n",
    "for i in range(number - 1, 0, -1) :\n",
    "    if i % 2 != 0 :\n",
    "        print(('*' * i).center(number))"
   ]
  },
  {
   "cell_type": "markdown",
   "metadata": {},
   "source": [
    "##### 8. 보어 구하기\n",
    "- complement (보어)를 구하시오\n",
    "- 50의 이진수는 110010\n",
    "- 이진수 110010의 보어는 001101 (0을 1로바꾸고 1을 0으로 바꿈)\n",
    "- 입력된 숫자의 보어를 10진수로 나타내시오\n",
    "\n",
    "결과 예시\n",
    "- 50 -> 13\n",
    "- 100 -> 27\n",
    "\n",
    "힌트\n",
    "- 10진수를 2진수로 변환 : bin(n)\n",
    "- 2진수를 10진수로 변환 : int(n,2)"
   ]
  },
  {
   "cell_type": "code",
   "execution_count": null,
   "metadata": {
    "collapsed": true
   },
   "outputs": [],
   "source": [
    "number = int(input(\"insert number : \"))\n",
    "\n",
    "binary = bin(number)[2:]\n",
    "print(binary)\n",
    "ls = []\n",
    "for i in binary :\n",
    "    if i == '1' :\n",
    "        ls.append('0')\n",
    "    elif i == '0' :\n",
    "        ls.append('1')\n",
    "ls = \"\".join(ls)\n",
    "ls = int(ls,2)\n",
    "print(ls)"
   ]
  },
  {
   "cell_type": "code",
   "execution_count": null,
   "metadata": {
    "collapsed": true
   },
   "outputs": [],
   "source": [
    "# XOR 비트 연산자\n",
    "number = 50 \n",
    "data, num = 0, 0\n",
    "while data < number :\n",
    "    data += 2 ** num\n",
    "    num += 1\n",
    "\n",
    "number^data"
   ]
  },
  {
   "cell_type": "code",
   "execution_count": null,
   "metadata": {
    "collapsed": true
   },
   "outputs": [],
   "source": []
  },
  {
   "cell_type": "markdown",
   "metadata": {},
   "source": [
    "##### 9. Bit Manipulation: Lonely Integer\n",
    "- https://www.hackerrank.com/challenges/ctci-lonely-integer/problem\n",
    "- 리스트에 하나만 있는 데이터 찾아내서 출력하기\n",
    "- ls 리스트에 있는 데이터의 카운트를 세서 딕셔너리 형태로 바꿔줌\n",
    "```\n",
    "from collections import Counter \n",
    "d = dict(Counter(ls))\n",
    "```\n",
    "- [1,1,2,2,3] (입력) -> 3 (결과)\n",
    "- [1,1,2,2] (입력) -> None (결과)"
   ]
  },
  {
   "cell_type": "code",
   "execution_count": null,
   "metadata": {
    "collapsed": true
   },
   "outputs": [],
   "source": [
    "from collections import Counter \n",
    "\n",
    "ls = [1,1,2,5,2,2,3]\n",
    "d = dict(Counter(ls))\n",
    "d\n",
    "\n",
    "result = []\n",
    "for key, value in d.items() :\n",
    "    print(key, value)\n",
    "    if value == 1 :\n",
    "        result.append(key)\n",
    "        \n",
    "result"
   ]
  },
  {
   "cell_type": "code",
   "execution_count": null,
   "metadata": {
    "collapsed": true
   },
   "outputs": [],
   "source": [
    "from collections import Counter \n",
    "ls = [1,1,2,5,2,2,3]\n",
    "d = Counter(ls)\n",
    "new_ls = d.most_common()\n",
    "if new_ls[-1][1] == 1 :\n",
    "    print(new_ls[-1][0])\n",
    "else :\n",
    "    print(\"None\")\n"
   ]
  },
  {
   "cell_type": "markdown",
   "metadata": {},
   "source": [
    "##### 10. Recursion: Fibonacci Numbers\n",
    "- https://www.hackerrank.com/challenges/ctci-fibonacci-numbers/problem\n",
    "- 피보나치 수열 초기값 a=0, b=1 에서 a는 b값이 되고 b는 a+b가 되는 a를 나열한 수열"
   ]
  },
  {
   "cell_type": "code",
   "execution_count": null,
   "metadata": {
    "collapsed": true
   },
   "outputs": [],
   "source": [
    "# n 번째 피보나치 수열의 숫자\n",
    "n = 10\n",
    "a, b = 0, 1\n",
    "while n != 0 :\n",
    "    c = a + b\n",
    "    a = b\n",
    "    b = c\n",
    "    n -= 1\n",
    "print(a)"
   ]
  },
  {
   "cell_type": "code",
   "execution_count": null,
   "metadata": {
    "collapsed": true
   },
   "outputs": [],
   "source": [
    "# n 까지 피보나치 수열의 숫자들\n",
    "n = 10\n",
    "a, b = 0, 1\n",
    "while n != 0 :\n",
    "    c = a + b\n",
    "    a = b\n",
    "    b = c\n",
    "    n -= 1\n",
    "    print(a)"
   ]
  },
  {
   "cell_type": "markdown",
   "metadata": {},
   "source": [
    "##### String Transformation\n",
    "\n",
    "문자열에서 문자를 한칸씩 이동하면서 해당 문자열이 나온만큼 뒤로 이동한다. (z + 1 => a) 로 순환해야 한다.\n",
    "문자열은 소문자만 사용한다.\n",
    "\n",
    "결과 예시\n",
    "- s = xyzxyzxyz (입력)\n",
    "- s[0] 은 x이다 s[0] 앞에 x 문자가 0개 나왔으므로 x + 0 => x를 출력\n",
    "- s[1] 은 y이다 s[1] 앞에 y 문자가 0개 나왔으므로 y + 0 => y를 출력\n",
    "- s[2] 은 z이다 s[2] 앞에 z 문자가 0개 나왔으므로 z + 0 => z를 출력\n",
    "- s[3] 은 x이다 s[3] 앞에 x 문자가 1개 나왔으므로 x + 1 => y를 출력\n",
    "- s[4] 은 x이다 s[4] 앞에 y 문자가 1개 나왔으므로 y + 1 => z를 출력\n",
    "- s[5] 은 y이다 s[5] 앞에 z 문자가 1개 나왔으므로 z + 1 => a를 출력\n",
    "- s[6] 은 z이다 s[6] 앞에 x 문자가 2개 나왔으므로 x + 2 => z를 출력\n",
    "- s[7] 은 x이다 s[7] 앞에 y 문자가 2개 나왔으므로 y + 2 => a를 출력\n",
    "- s[8] 은 x이다 s[8] 앞에 z 문자가 2개 나왔으므로 z + 2 => b를 출력\n",
    "- xyzyzazab (출력)\n",
    "\n",
    "힌트\n",
    "- 문자를 숫자로 변환 : ord('a')\n",
    "- 숫자를 문자로 변환 : chr(97)\n",
    "- a ~ z는 숫자로 변환하면 97 ~ 122 이다\n",
    "- 문자열을 각 문자의 갯수로 딕셔너리 형태로 변환\n",
    "\n",
    "from collections import Counter\n",
    "s = \"asdfqwera\"\n",
    "counter = Counter(s)\n",
    "counter\n",
    "\n",
    "성능\n",
    "- 10000개의 문자열을 transfomation 하는데 500ms 이하의 속도가 되어야 한다."
   ]
  },
  {
   "cell_type": "code",
   "execution_count": null,
   "metadata": {
    "collapsed": true
   },
   "outputs": [],
   "source": [
    "%%time\n",
    "#1. 문자를 하나씩 불러온다\n",
    "#2. 불러오는 문자 이전에 같은 문자가 있는지 확인한다\n",
    "#3. 불러오는 문자 이전에 같은 문자가 없다면 똑같은 문자 출력\n",
    "#4. 불러오는 문자 이전에 같은 문자가 있다면 같은 문자의 개수만큼 ord('문자')에 더해서 해당 숫자 출력\n",
    "# 현재 문제는 글자수가 많아지면 Counter로 인한 숫자가 증가하여 122를 벗어나게 됨. 122를 못 벗어나게 해야된다. \n",
    "sentence = 'abcde'* 2000\n",
    "ls = []\n",
    "for i in range(len(sentence) ) :\n",
    "    if Counter(sentence[ : i])[sentence[i]] != 0 :\n",
    "        move = ord(sentence[i])\n",
    "        number = (Counter(sentence[ : i])[sentence[i]]) % 26\n",
    "        if move + number > 122 :\n",
    "            move = 96\n",
    "            ls.append(chr(move + number))           \n",
    "    elif Counter(sentence[ : i])[sentence[i]] == 0 :\n",
    "        ls.append(sentence[i])\n",
    "ls = \"\".join(ls)              \n",
    "print(ls[-50 : ])\n",
    "    \n"
   ]
  },
  {
   "cell_type": "code",
   "execution_count": null,
   "metadata": {
    "collapsed": true
   },
   "outputs": [],
   "source": [
    "#teacher's answer\n",
    "# input char, number -> cahr + number = moved_char\n",
    "# 앞에서 몇 번 나왔는지 숫자를 체크 한 다음에 문자와 숫자를 넣어주면 됨.\n",
    "def move_char(char, number) :\n",
    "    moved_char = (ord(char) - 97 + number) % 26 + 97\n",
    "    return chr(moved_char)"
   ]
  },
  {
   "cell_type": "code",
   "execution_count": null,
   "metadata": {
    "collapsed": true
   },
   "outputs": [],
   "source": [
    "# 1. Counter - 문자열 앞부터 문자의 갯수를 확인해서 문자열을 만드는 방법\n",
    "def transpormation_1(string) : \n",
    "    result = []\n",
    "    for idx, char in enumerate(string) :\n",
    "        count = Counter(string[ :idx])\n",
    "        tp_char = move_char(char, count[char])\n",
    "        result.append(tp_char)    \n",
    "    return \"\".join(result)"
   ]
  },
  {
   "cell_type": "code",
   "execution_count": null,
   "metadata": {
    "collapsed": true
   },
   "outputs": [],
   "source": [
    "%%time\n",
    "s = \"abcde\" * 2000\n",
    "result = transpormation_1(s)\n",
    "result[-50 : ]"
   ]
  },
  {
   "cell_type": "code",
   "execution_count": null,
   "metadata": {
    "collapsed": true
   },
   "outputs": [],
   "source": [
    "# 2. count - 문자열 앞부터 문자의 갯수를 확인해서 문자열을 만드는 방법\n",
    "def transpormation_2(string) : \n",
    "    result = []\n",
    "    for idx, char in enumerate(string) :\n",
    "        move_number = string[ : idx].count(char)\n",
    "        tp_char = move_char(char, move_number)\n",
    "        result.append(tp_char)\n",
    "        \n",
    "    return \"\".join(result)"
   ]
  },
  {
   "cell_type": "code",
   "execution_count": null,
   "metadata": {
    "collapsed": true
   },
   "outputs": [],
   "source": [
    "%%time\n",
    "s = \"abcde\" * 10000\n",
    "result = transpormation_2(s)\n",
    "result[ -50 : ]"
   ]
  },
  {
   "cell_type": "code",
   "execution_count": 160,
   "metadata": {
    "collapsed": true
   },
   "outputs": [],
   "source": [
    "# 3. Counter - Counter를 한번만 호출해서 문자열을 만드는 방법\n",
    "def transpormation_3(string) :\n",
    "    result = []\n",
    "    count = Counter(string)\n",
    "    for idx in range(len(string) - 1, -1, -1) : \n",
    "            char = string[idx]\n",
    "            move_number = count[char] - 1\n",
    "            tf_char = move_char(char, move_number)\n",
    "            count[char] -=  1\n",
    "            result.append(tf_char)\n",
    "    return \"\".join(result[ : : -1])\n",
    "\n",
    "\n",
    "\n",
    "\n"
   ]
  },
  {
   "cell_type": "code",
   "execution_count": null,
   "metadata": {
    "collapsed": true
   },
   "outputs": [],
   "source": [
    "string = \"xyzxyzxyz\" \n",
    "transpormation_3(string)"
   ]
  },
  {
   "cell_type": "code",
   "execution_count": null,
   "metadata": {
    "collapsed": true
   },
   "outputs": [],
   "source": [
    "%%time\n",
    "s = \"abcde\" * 1000\n",
    "transpormation_3(s)\n"
   ]
  },
  {
   "cell_type": "code",
   "execution_count": 69,
   "metadata": {},
   "outputs": [
    {
     "name": "stdout",
     "output_type": "stream",
     "text": [
      "123\n"
     ]
    }
   ],
   "source": [
    "print(ord('{'))"
   ]
  },
  {
   "cell_type": "code",
   "execution_count": 76,
   "metadata": {},
   "outputs": [
    {
     "data": {
      "text/plain": [
       "'c'"
      ]
     },
     "execution_count": 76,
     "metadata": {},
     "output_type": "execute_result"
    }
   ],
   "source": [
    "move_char(\"a\", 2)"
   ]
  },
  {
   "cell_type": "code",
   "execution_count": 3,
   "metadata": {
    "collapsed": true
   },
   "outputs": [],
   "source": [
    "from collections import Counter"
   ]
  },
  {
   "cell_type": "code",
   "execution_count": 9,
   "metadata": {
    "collapsed": true
   },
   "outputs": [],
   "source": [
    "def transformation(string) :\n",
    "    result = []\n",
    "    for idx, char in enumerate(string) :\n",
    "        count = Counter(string[ : idx])\n",
    "        new_char = move_char(char, count[char])\n",
    "        result.append(new_char)\n",
    "        \n",
    "    return \"\".join(result)"
   ]
  },
  {
   "cell_type": "code",
   "execution_count": 8,
   "metadata": {
    "collapsed": true
   },
   "outputs": [],
   "source": [
    "s = \"xyzxyzxyz\"\n",
    "\n",
    "def move_char(char, number) :\n",
    "    moved_number = (ord(char) - 97 + number)  % 26 + 97\n",
    "    new_char = chr(moved_number)\n",
    "    return new_char"
   ]
  },
  {
   "cell_type": "code",
   "execution_count": null,
   "metadata": {},
   "outputs": [],
   "source": [
    "%%timeit\n",
    "s = \"xyzxyzxyzx\" * 10000\n",
    "transformation(s)"
   ]
  },
  {
   "cell_type": "code",
   "execution_count": 129,
   "metadata": {
    "collapsed": true
   },
   "outputs": [],
   "source": [
    "def transformation_2(string) : \n",
    "    result = []\n",
    "    for idx, char in enumerate(string) :\n",
    "        count = string[:idx].count(char)\n",
    "        new_char = move_char(char, count)\n",
    "        result.append(new_char)\n",
    "    return \"\".join(result)"
   ]
  },
  {
   "cell_type": "code",
   "execution_count": 141,
   "metadata": {
    "collapsed": true
   },
   "outputs": [
    {
     "name": "stdout",
     "output_type": "stream",
     "text": [
      "9\n"
     ]
    }
   ],
   "source": [
    "s = \"xyzxyzxyz\"\n",
    "print(len(transformation_2(s)))"
   ]
  },
  {
   "cell_type": "code",
   "execution_count": 1,
   "metadata": {
    "collapsed": true
   },
   "outputs": [],
   "source": [
    "def transformation_3(string) :\n",
    "    result = []\n",
    "    count = Counter(string)\n",
    "    move_number = count[string[idx]]\n",
    "    for idx in range(len(string) - 1, - 1, -1) : \n",
    "        print(\"move_number :\", move_number)\n",
    "        new_char = move_char(string[idx], move_number)\n",
    "        move_number -= 1\n",
    "        result.append(new_char)\n",
    "    return result[ : : -1]\n",
    "        \n",
    "\n",
    "        "
   ]
  },
  {
   "cell_type": "code",
   "execution_count": 2,
   "metadata": {},
   "outputs": [
    {
     "ename": "NameError",
     "evalue": "name 'Counter' is not defined",
     "output_type": "error",
     "traceback": [
      "\u001b[0;31m---------------------------------------------------------------------------\u001b[0m",
      "\u001b[0;31mNameError\u001b[0m                                 Traceback (most recent call last)",
      "\u001b[0;32m<ipython-input-2-a563b3f0663f>\u001b[0m in \u001b[0;36m<module>\u001b[0;34m()\u001b[0m\n\u001b[0;32m----> 1\u001b[0;31m \u001b[0mtransformation_3\u001b[0m\u001b[0;34m(\u001b[0m\u001b[0;34m\"xyzxyzxyz\"\u001b[0m\u001b[0;34m)\u001b[0m\u001b[0;34m\u001b[0m\u001b[0m\n\u001b[0m",
      "\u001b[0;32m<ipython-input-1-082417b05361>\u001b[0m in \u001b[0;36mtransformation_3\u001b[0;34m(string)\u001b[0m\n\u001b[1;32m      1\u001b[0m \u001b[0;32mdef\u001b[0m \u001b[0mtransformation_3\u001b[0m\u001b[0;34m(\u001b[0m\u001b[0mstring\u001b[0m\u001b[0;34m)\u001b[0m \u001b[0;34m:\u001b[0m\u001b[0;34m\u001b[0m\u001b[0m\n\u001b[1;32m      2\u001b[0m     \u001b[0mresult\u001b[0m \u001b[0;34m=\u001b[0m \u001b[0;34m[\u001b[0m\u001b[0;34m]\u001b[0m\u001b[0;34m\u001b[0m\u001b[0m\n\u001b[0;32m----> 3\u001b[0;31m     \u001b[0mcount\u001b[0m \u001b[0;34m=\u001b[0m \u001b[0mCounter\u001b[0m\u001b[0;34m(\u001b[0m\u001b[0mstring\u001b[0m\u001b[0;34m)\u001b[0m\u001b[0;34m\u001b[0m\u001b[0m\n\u001b[0m\u001b[1;32m      4\u001b[0m     \u001b[0mmove_number\u001b[0m \u001b[0;34m=\u001b[0m \u001b[0mcount\u001b[0m\u001b[0;34m[\u001b[0m\u001b[0mstring\u001b[0m\u001b[0;34m[\u001b[0m\u001b[0midx\u001b[0m\u001b[0;34m]\u001b[0m\u001b[0;34m]\u001b[0m\u001b[0;34m\u001b[0m\u001b[0m\n\u001b[1;32m      5\u001b[0m     \u001b[0;32mfor\u001b[0m \u001b[0midx\u001b[0m \u001b[0;32min\u001b[0m \u001b[0mrange\u001b[0m\u001b[0;34m(\u001b[0m\u001b[0mlen\u001b[0m\u001b[0;34m(\u001b[0m\u001b[0mstring\u001b[0m\u001b[0;34m)\u001b[0m \u001b[0;34m-\u001b[0m \u001b[0;36m1\u001b[0m\u001b[0;34m,\u001b[0m \u001b[0;34m-\u001b[0m \u001b[0;36m1\u001b[0m\u001b[0;34m,\u001b[0m \u001b[0;34m-\u001b[0m\u001b[0;36m1\u001b[0m\u001b[0;34m)\u001b[0m \u001b[0;34m:\u001b[0m\u001b[0;34m\u001b[0m\u001b[0m\n",
      "\u001b[0;31mNameError\u001b[0m: name 'Counter' is not defined"
     ]
    }
   ],
   "source": [
    "transformation_3(\"xyzxyzxyz\")"
   ]
  },
  {
   "cell_type": "code",
   "execution_count": null,
   "metadata": {
    "collapsed": true
   },
   "outputs": [],
   "source": []
  }
 ],
 "metadata": {
  "kernelspec": {
   "display_name": "Python 3",
   "language": "python",
   "name": "python3"
  },
  "language_info": {
   "codemirror_mode": {
    "name": "ipython",
    "version": 3
   },
   "file_extension": ".py",
   "mimetype": "text/x-python",
   "name": "python",
   "nbconvert_exporter": "python",
   "pygments_lexer": "ipython3",
   "version": "3.6.3"
  }
 },
 "nbformat": 4,
 "nbformat_minor": 2
}
