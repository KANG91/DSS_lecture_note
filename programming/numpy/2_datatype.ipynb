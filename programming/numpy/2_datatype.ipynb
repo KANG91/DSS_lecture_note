{
 "cells": [
  {
   "cell_type": "markdown",
   "metadata": {},
   "source": [
    "### Datatype\n",
    "- boolean : bool\n",
    "- integer : int64 (64는 byte를 의미함)\n",
    "- float : float64\n",
    "- byte String : S24\n",
    "- unicode String : U24"
   ]
  },
  {
   "cell_type": "code",
   "execution_count": 2,
   "metadata": {},
   "outputs": [],
   "source": [
    "import numpy as np"
   ]
  },
  {
   "cell_type": "code",
   "execution_count": 5,
   "metadata": {},
   "outputs": [
    {
     "data": {
      "text/plain": [
       "dtype('bool')"
      ]
     },
     "execution_count": 5,
     "metadata": {},
     "output_type": "execute_result"
    }
   ],
   "source": [
    "na = np.array([True, False])\n",
    "na.dtype"
   ]
  },
  {
   "cell_type": "code",
   "execution_count": 13,
   "metadata": {},
   "outputs": [
    {
     "data": {
      "text/plain": [
       "dtype('int32')"
      ]
     },
     "execution_count": 13,
     "metadata": {},
     "output_type": "execute_result"
    }
   ],
   "source": [
    "na = np.array([1, 2, 3])\n",
    "na.dtype"
   ]
  },
  {
   "cell_type": "code",
   "execution_count": 7,
   "metadata": {},
   "outputs": [
    {
     "data": {
      "text/plain": [
       "dtype('float64')"
      ]
     },
     "execution_count": 7,
     "metadata": {},
     "output_type": "execute_result"
    }
   ],
   "source": [
    "na = np.array([1.0, 2.0, 3.0])\n",
    "na.dtype"
   ]
  },
  {
   "cell_type": "markdown",
   "metadata": {},
   "source": [
    "##### change datatype"
   ]
  },
  {
   "cell_type": "code",
   "execution_count": 14,
   "metadata": {},
   "outputs": [
    {
     "name": "stdout",
     "output_type": "stream",
     "text": [
      "[-1.   0.   1.   2.2  3.8]\n",
      "[-1  0  1  2  3]\n",
      "[ True False  True  True  True]\n",
      "[b'True' b'False' b'True' b'True' b'True']\n",
      "['True' 'False' 'True' 'True' 'True']\n"
     ]
    }
   ],
   "source": [
    "na = np.array([-1.0, 0.0, 1.0, 2.2, 3.8])\n",
    "print(na)\n",
    "\n",
    "na = na.astype('int64')\n",
    "print(na)\n",
    "\n",
    "na = na.astype('bool')\n",
    "print(na)\n",
    "\n",
    "na = na.astype('S24')\n",
    "print(na)\n",
    "\n",
    "na = na.astype('U24')\n",
    "print(na)"
   ]
  },
  {
   "cell_type": "code",
   "execution_count": 9,
   "metadata": {},
   "outputs": [
    {
     "name": "stdout",
     "output_type": "stream",
     "text": [
      "[[0.88670127 0.67471656 0.1468773 ]\n",
      " [0.63883273 0.46239334 0.91771898]\n",
      " [0.71393252 0.70861838 0.73504682]]\n",
      "[[7 7 5]\n",
      " [6 6 7]\n",
      " [7 7 7]]\n"
     ]
    }
   ],
   "source": [
    "# 5~10까지 랜덤한 숫자가 들어있는 5*5 행렬\n",
    "na = np.random.rand(3, 3)\n",
    "print(na)\n",
    "\n",
    "na = (na*3+5).astype('int64')\n",
    "print(na)"
   ]
  },
  {
   "cell_type": "code",
   "execution_count": null,
   "metadata": {},
   "outputs": [],
   "source": []
  }
 ],
 "metadata": {
  "kernelspec": {
   "display_name": "Python 3",
   "language": "python",
   "name": "python3"
  },
  "language_info": {
   "codemirror_mode": {
    "name": "ipython",
    "version": 3
   },
   "file_extension": ".py",
   "mimetype": "text/x-python",
   "name": "python",
   "nbconvert_exporter": "python",
   "pygments_lexer": "ipython3",
   "version": "3.6.3"
  }
 },
 "nbformat": 4,
 "nbformat_minor": 2
}
